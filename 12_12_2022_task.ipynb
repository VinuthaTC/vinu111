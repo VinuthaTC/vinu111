{
  "cells": [
    {
      "cell_type": "markdown",
      "metadata": {
        "id": "view-in-github",
        "colab_type": "text"
      },
      "source": [
        "<a href=\"https://colab.research.google.com/github/VinuthaTC/vinu111/blob/main/12_12_2022_task.ipynb\" target=\"_parent\"><img src=\"https://colab.research.google.com/assets/colab-badge.svg\" alt=\"Open In Colab\"/></a>"
      ]
    },
    {
      "cell_type": "code",
      "execution_count": null,
      "metadata": {
        "colab": {
          "base_uri": "https://localhost:8080/"
        },
        "id": "cBtfl_7H62je",
        "outputId": "9e1f783f-e68a-4990-e0d3-4b0f7c20e934"
      },
      "outputs": [
        {
          "output_type": "stream",
          "name": "stdout",
          "text": [
            "Looking in indexes: https://pypi.org/simple, https://us-python.pkg.dev/colab-wheels/public/simple/\n",
            "Collecting pyspark\n",
            "  Downloading pyspark-3.3.1.tar.gz (281.4 MB)\n",
            "\u001b[K     |████████████████████████████████| 281.4 MB 46 kB/s \n",
            "\u001b[?25hCollecting py4j==0.10.9.5\n",
            "  Downloading py4j-0.10.9.5-py2.py3-none-any.whl (199 kB)\n",
            "\u001b[K     |████████████████████████████████| 199 kB 40.2 MB/s \n",
            "\u001b[?25hBuilding wheels for collected packages: pyspark\n",
            "  Building wheel for pyspark (setup.py) ... \u001b[?25l\u001b[?25hdone\n",
            "  Created wheel for pyspark: filename=pyspark-3.3.1-py2.py3-none-any.whl size=281845512 sha256=48e9e777fd121af41ffb2b3e983975645d2b25d4057a481196aa9ed060c2339e\n",
            "  Stored in directory: /root/.cache/pip/wheels/43/dc/11/ec201cd671da62fa9c5cc77078235e40722170ceba231d7598\n",
            "Successfully built pyspark\n",
            "Installing collected packages: py4j, pyspark\n",
            "Successfully installed py4j-0.10.9.5 pyspark-3.3.1\n"
          ]
        }
      ],
      "source": [
        "pip install pyspark"
      ]
    },
    {
      "cell_type": "code",
      "execution_count": null,
      "metadata": {
        "id": "USO5XDJ57PZw"
      },
      "outputs": [],
      "source": [
        "from pyspark.sql import SparkSession"
      ]
    },
    {
      "cell_type": "code",
      "execution_count": null,
      "metadata": {
        "id": "Rym2nfrF4LSo"
      },
      "outputs": [],
      "source": [
        "from pyspark.sql.types import StructType, StructField, StringType, IntegerType"
      ]
    },
    {
      "cell_type": "code",
      "execution_count": null,
      "metadata": {
        "id": "BdUYH6TQ7kkr"
      },
      "outputs": [],
      "source": [
        "spark=SparkSession.builder.appName(\"app\").getOrCreate()"
      ]
    },
    {
      "cell_type": "code",
      "execution_count": null,
      "metadata": {
        "id": "449CkRmg8So0"
      },
      "outputs": [],
      "source": [
        "data1 = [(\"Jhon\", \"son\", \"smith\", \"1001\",\"M\", 40000),\n",
        "        (\"Michael\", \"Rose\", \"rao\", \"1002\", \"M\", 50000),\n",
        "        (\"Robert\", \"William\", \"rao\", \"1003\", \"M\", 60000),\n",
        "        (\"Mariba\", \"van\", \"san\", \"1004\", \"M\", 70000),\n",
        "        (\"jen\", \"path\", \"rahul\", \"1005\", \"M\", 80000),\n",
        "        (\"Rohan\", \"Wil\", \"ram\", \"1006\", \"M\", 66000),\n",
        "        (\"Ravath\", \"ram\", \"ram\", \"1007\", \"M\", 67000),\n",
        "        (\"san\", \"sam\", \"rao\", \"1008\", \"M\", 87000),\n",
        "        (\"sam\", \"ran\", \"rao\", \"1009\", \"F\", 75000),\n",
        "        (\"Rose\", \"se\", \"sam\", \"1010\", \"F\", 87000),\n",
        "        (\"vaan\", \"vam\", \"ra\", \"1011\", \"M\", 55600),\n",
        "        (\"vinod\", \"vinay\", \"rao\", \"1012\", \"M\", 23400),\n",
        "        (\"viraj\", \"kam\", \"raj\", \"1013\", \"M\", 67800),\n",
        "        (\"varun\", \"vammn\", \"shetty\", \"1014\", \"M\", 87600),\n",
        "        (\"vandana\", \"vasu\", \"chawdary\", \"1015\", \"F\", 45600),\n",
        "        (\"surya\", \"sur\", \"sam\", \"1016\", \"M\", 98600),\n",
        "        (\"sowmya\", \"yar\", \"rao\", \"1017\", \"F\", 45600),\n",
        "        (\"pavan\", \"pam\", \"pv\", \"1018\", \"M\", 37500),\n",
        "        (\"vinay\", \"s\", \"eve\", \"1019\", \"M\", 39500),\n",
        "        (\"sunil\", \"somu\", \"san\", \"1020\", \"M\", 49500),]"
      ]
    },
    {
      "cell_type": "code",
      "execution_count": null,
      "metadata": {
        "id": "i8b78zAC_HvI"
      },
      "outputs": [],
      "source": [
        "schema=StructType([  StructField(\"First_name\", StringType(), True),\n",
        "                   StructField(\"Midle_name\", StringType(), True),\n",
        "                   StructField(\"Last_name\", StringType(), True),\n",
        "                   StructField(\"ID\", StringType(), True),\n",
        "                   StructField(\"Gender\", StringType(), True),\n",
        "                   StructField(\"Salary\", IntegerType(), True),])"
      ]
    },
    {
      "cell_type": "code",
      "execution_count": null,
      "metadata": {
        "colab": {
          "base_uri": "https://localhost:8080/"
        },
        "id": "6eU54ehnBdv_",
        "outputId": "1cb75372-0b0c-459d-bbe7-fbcfe83a70da"
      },
      "outputs": [
        {
          "output_type": "stream",
          "name": "stdout",
          "text": [
            "root\n",
            " |-- First_name: string (nullable = true)\n",
            " |-- Midle_name: string (nullable = true)\n",
            " |-- Last_name: string (nullable = true)\n",
            " |-- ID: string (nullable = true)\n",
            " |-- Gender: string (nullable = true)\n",
            " |-- Salary: integer (nullable = true)\n",
            "\n",
            "+----------+----------+---------+----+------+------+\n",
            "|First_name|Midle_name|Last_name|ID  |Gender|Salary|\n",
            "+----------+----------+---------+----+------+------+\n",
            "|Jhon      |son       |smith    |1001|M     |40000 |\n",
            "|Michael   |Rose      |rao      |1002|M     |50000 |\n",
            "|Robert    |William   |rao      |1003|M     |60000 |\n",
            "|Mariba    |van       |san      |1004|M     |70000 |\n",
            "|jen       |path      |rahul    |1005|M     |80000 |\n",
            "|Rohan     |Wil       |ram      |1006|M     |66000 |\n",
            "|Ravath    |ram       |ram      |1007|M     |67000 |\n",
            "|san       |sam       |rao      |1008|M     |87000 |\n",
            "|sam       |ran       |rao      |1009|F     |75000 |\n",
            "|Rose      |se        |sam      |1010|F     |87000 |\n",
            "|vaan      |vam       |ra       |1011|M     |55600 |\n",
            "|vinod     |vinay     |rao      |1012|M     |23400 |\n",
            "|viraj     |kam       |raj      |1013|M     |67800 |\n",
            "|varun     |vammn     |shetty   |1014|M     |87600 |\n",
            "|vandana   |vasu      |chawdary |1015|F     |45600 |\n",
            "|surya     |sur       |sam      |1016|M     |98600 |\n",
            "|sowmya    |yar       |rao      |1017|F     |45600 |\n",
            "|pavan     |pam       |pv       |1018|M     |37500 |\n",
            "|vinay     |s         |eve      |1019|M     |39500 |\n",
            "|sunil     |somu      |san      |1020|M     |49500 |\n",
            "+----------+----------+---------+----+------+------+\n",
            "\n"
          ]
        }
      ],
      "source": [
        "data1= spark.createDataFrame(data=data1, schema=schema)\n",
        "data1.printSchema()\n",
        "data1.show(truncate=False)"
      ]
    },
    {
      "cell_type": "code",
      "execution_count": null,
      "metadata": {
        "colab": {
          "base_uri": "https://localhost:8080/"
        },
        "id": "EuWDGdghFXnV",
        "outputId": "ed2d73d3-20e8-428f-b29e-273704c026d5"
      },
      "outputs": [
        {
          "output_type": "stream",
          "name": "stdout",
          "text": [
            "+----------+----+------+\n",
            "|First_name|  ID|Salary|\n",
            "+----------+----+------+\n",
            "|      Jhon|1001| 40000|\n",
            "|   Michael|1002| 50000|\n",
            "|    Robert|1003| 60000|\n",
            "|    Mariba|1004| 70000|\n",
            "|       jen|1005| 80000|\n",
            "|     Rohan|1006| 66000|\n",
            "|    Ravath|1007| 67000|\n",
            "|       san|1008| 87000|\n",
            "|       sam|1009| 75000|\n",
            "|      Rose|1010| 87000|\n",
            "|      vaan|1011| 55600|\n",
            "|     vinod|1012| 23400|\n",
            "|     viraj|1013| 67800|\n",
            "|     varun|1014| 87600|\n",
            "|   vandana|1015| 45600|\n",
            "|     surya|1016| 98600|\n",
            "|    sowmya|1017| 45600|\n",
            "|     pavan|1018| 37500|\n",
            "|     vinay|1019| 39500|\n",
            "|     sunil|1020| 49500|\n",
            "+----------+----+------+\n",
            "\n"
          ]
        }
      ],
      "source": [
        "data1.select('First_name', \"ID\", \"Salary\").show()\n"
      ]
    },
    {
      "cell_type": "code",
      "execution_count": null,
      "metadata": {
        "colab": {
          "base_uri": "https://localhost:8080/"
        },
        "id": "36ItEt68KhiB",
        "outputId": "3058c498-b6a7-43b7-e3b4-a79ff6964198"
      },
      "outputs": [
        {
          "output_type": "stream",
          "name": "stdout",
          "text": [
            "+----------+----+\n",
            "|First_name|  ID|\n",
            "+----------+----+\n",
            "|      Jhon|1001|\n",
            "|   Michael|1002|\n",
            "|    Robert|1003|\n",
            "|    Mariba|1004|\n",
            "|       jen|1005|\n",
            "|     Rohan|1006|\n",
            "|    Ravath|1007|\n",
            "|       san|1008|\n",
            "|       sam|1009|\n",
            "|      Rose|1010|\n",
            "|      vaan|1011|\n",
            "|     vinod|1012|\n",
            "|     viraj|1013|\n",
            "|     varun|1014|\n",
            "|   vandana|1015|\n",
            "|     surya|1016|\n",
            "|    sowmya|1017|\n",
            "|     pavan|1018|\n",
            "|     vinay|1019|\n",
            "|     sunil|1020|\n",
            "+----------+----+\n",
            "\n"
          ]
        }
      ],
      "source": [
        "data1.select('First_name', \"ID\").show()"
      ]
    },
    {
      "cell_type": "code",
      "execution_count": null,
      "metadata": {
        "colab": {
          "base_uri": "https://localhost:8080/"
        },
        "id": "3plz1n2JMAD0",
        "outputId": "2c4da64c-9228-4e7b-f94b-55f122cae5df"
      },
      "outputs": [
        {
          "output_type": "stream",
          "name": "stdout",
          "text": [
            "+----------+----------+---------+----+---+------+\n",
            "|First_name|Midle_name|Last_name|  ID|sex|Salary|\n",
            "+----------+----------+---------+----+---+------+\n",
            "|      Jhon|       son|    smith|1001|  M| 40000|\n",
            "|   Michael|      Rose|      rao|1002|  M| 50000|\n",
            "|    Robert|   William|      rao|1003|  M| 60000|\n",
            "|    Mariba|       van|      san|1004|  M| 70000|\n",
            "|       jen|      path|    rahul|1005|  M| 80000|\n",
            "|     Rohan|       Wil|      ram|1006|  M| 66000|\n",
            "|    Ravath|       ram|      ram|1007|  M| 67000|\n",
            "|       san|       sam|      rao|1008|  M| 87000|\n",
            "|       sam|       ran|      rao|1009|  F| 75000|\n",
            "|      Rose|        se|      sam|1010|  F| 87000|\n",
            "|      vaan|       vam|       ra|1011|  M| 55600|\n",
            "|     vinod|     vinay|      rao|1012|  M| 23400|\n",
            "|     viraj|       kam|      raj|1013|  M| 67800|\n",
            "|     varun|     vammn|   shetty|1014|  M| 87600|\n",
            "|   vandana|      vasu| chawdary|1015|  F| 45600|\n",
            "|     surya|       sur|      sam|1016|  M| 98600|\n",
            "|    sowmya|       yar|      rao|1017|  F| 45600|\n",
            "|     pavan|       pam|       pv|1018|  M| 37500|\n",
            "|     vinay|         s|      eve|1019|  M| 39500|\n",
            "|     sunil|      somu|      san|1020|  M| 49500|\n",
            "+----------+----------+---------+----+---+------+\n",
            "\n"
          ]
        }
      ],
      "source": [
        "data1.withColumnRenamed(\"gender\",\"sex\").show()"
      ]
    },
    {
      "cell_type": "code",
      "execution_count": null,
      "metadata": {
        "id": "CkA5VE41QH8o"
      },
      "outputs": [],
      "source": [
        "from pyspark.sql import functions as F"
      ]
    },
    {
      "cell_type": "code",
      "execution_count": null,
      "metadata": {
        "colab": {
          "base_uri": "https://localhost:8080/"
        },
        "id": "Wlmp_NKJNlS8",
        "outputId": "609467ef-126b-464c-c270-fb30a025a8f3"
      },
      "outputs": [
        {
          "output_type": "stream",
          "name": "stdout",
          "text": [
            "+----------+----------+---------+----+------+------+\n",
            "|First_name|Midle_name|Last_name|  ID|Gender|Salary|\n",
            "+----------+----------+---------+----+------+------+\n",
            "|      Jhon|       son|    smith|1001|     M| 40000|\n",
            "|   Michael|      Rose|      rao|1002|     M| 50000|\n",
            "|    Robert|   William|      rao|1003|     M| 60000|\n",
            "|    Mariba|       van|      san|1004|     M| 70000|\n",
            "|       jen|      path|    rahul|1005|     M| 80000|\n",
            "|     Rohan|       Wil|      ram|1006|     M| 66000|\n",
            "|    Ravath|       ram|      ram|1007|     M| 67000|\n",
            "|       san|       sam|      rao|1008|     M| 87000|\n",
            "|       sam|       ran|      rao|1009|     F| 75000|\n",
            "|      Rose|        se|      sam|1010|     F| 87000|\n",
            "|      vaan|       vam|       ra|1011|     M| 55600|\n",
            "|     vinod|     vinay|      rao|1012|     M| 23400|\n",
            "|     viraj|       kam|      raj|1013|     M| 67800|\n",
            "|     varun|     vammn|   shetty|1014|     M| 87600|\n",
            "|   vandana|      vasu| chawdary|1015|     F| 45600|\n",
            "|     surya|       sur|      sam|1016|     M| 98600|\n",
            "|    sowmya|       yar|      rao|1017|     F| 45600|\n",
            "|     pavan|       pam|       pv|1018|     M| 37500|\n",
            "|     vinay|         s|      eve|1019|     M| 39500|\n",
            "|     sunil|      somu|      san|1020|     M| 49500|\n",
            "+----------+----------+---------+----+------+------+\n",
            "\n"
          ]
        }
      ],
      "source": [
        "data1.withColumn(\"ID\",F.col(\"ID\").cast(\"Integer\")).show()"
      ]
    },
    {
      "cell_type": "code",
      "execution_count": null,
      "metadata": {
        "id": "gTaZ0hrRTboN"
      },
      "outputs": [],
      "source": [
        "from pyspark.sql.functions import col, lit"
      ]
    },
    {
      "cell_type": "code",
      "execution_count": null,
      "metadata": {
        "colab": {
          "base_uri": "https://localhost:8080/"
        },
        "id": "k6qZk6ENThYT",
        "outputId": "b8331557-471f-4b8e-befe-877cbbddba34"
      },
      "outputs": [
        {
          "output_type": "stream",
          "name": "stdout",
          "text": [
            "+----------+----------+---------+----+------+------+\n",
            "|First_name|Midle_name|Last_name|  ID|Gender|Salary|\n",
            "+----------+----------+---------+----+------+------+\n",
            "|      Jhon|       son|    smith|1001|     M| 40000|\n",
            "|   Michael|      Rose|      rao|1002|     M| 50000|\n",
            "|    Robert|   William|      rao|1003|     M| 60000|\n",
            "|    Mariba|       van|      san|1004|     M| 70000|\n",
            "|       jen|      path|    rahul|1005|     M| 80000|\n",
            "|     Rohan|       Wil|      ram|1006|     M| 66000|\n",
            "|    Ravath|       ram|      ram|1007|     M| 67000|\n",
            "|       san|       sam|      rao|1008|     M| 87000|\n",
            "|       sam|       ran|      rao|1009|     F| 75000|\n",
            "|      Rose|        se|      sam|1010|     F| 87000|\n",
            "|      vaan|       vam|       ra|1011|     M| 55600|\n",
            "|     vinod|     vinay|      rao|1012|     M| 23400|\n",
            "|     viraj|       kam|      raj|1013|     M| 67800|\n",
            "|     varun|     vammn|   shetty|1014|     M| 87600|\n",
            "|   vandana|      vasu| chawdary|1015|     F| 45600|\n",
            "|     surya|       sur|      sam|1016|     M| 98600|\n",
            "|    sowmya|       yar|      rao|1017|     F| 45600|\n",
            "|     pavan|       pam|       pv|1018|     M| 37500|\n",
            "|     vinay|         s|      eve|1019|     M| 39500|\n",
            "|     sunil|      somu|      san|1020|     M| 49500|\n",
            "+----------+----------+---------+----+------+------+\n",
            "\n"
          ]
        }
      ],
      "source": [
        "data1.withColumn(\"ID\",col(\"ID\").cast(\"string\")).show()"
      ]
    },
    {
      "cell_type": "code",
      "execution_count": null,
      "metadata": {
        "colab": {
          "base_uri": "https://localhost:8080/"
        },
        "id": "WEtvb5gzPLNU",
        "outputId": "44087e5c-d258-4cb6-b73f-192165f2a488"
      },
      "outputs": [
        {
          "output_type": "stream",
          "name": "stdout",
          "text": [
            "+----------+----------+---------+----+------+------+-------+\n",
            "|First_name|Midle_name|Last_name|  ID|Gender|Salary|counrty|\n",
            "+----------+----------+---------+----+------+------+-------+\n",
            "|      Jhon|       son|    smith|1001|     M| 40000|    USA|\n",
            "|   Michael|      Rose|      rao|1002|     M| 50000|    USA|\n",
            "|    Robert|   William|      rao|1003|     M| 60000|    USA|\n",
            "|    Mariba|       van|      san|1004|     M| 70000|    USA|\n",
            "|       jen|      path|    rahul|1005|     M| 80000|    USA|\n",
            "|     Rohan|       Wil|      ram|1006|     M| 66000|    USA|\n",
            "|    Ravath|       ram|      ram|1007|     M| 67000|    USA|\n",
            "|       san|       sam|      rao|1008|     M| 87000|    USA|\n",
            "|       sam|       ran|      rao|1009|     F| 75000|    USA|\n",
            "|      Rose|        se|      sam|1010|     F| 87000|    USA|\n",
            "|      vaan|       vam|       ra|1011|     M| 55600|    USA|\n",
            "|     vinod|     vinay|      rao|1012|     M| 23400|    USA|\n",
            "|     viraj|       kam|      raj|1013|     M| 67800|    USA|\n",
            "|     varun|     vammn|   shetty|1014|     M| 87600|    USA|\n",
            "|   vandana|      vasu| chawdary|1015|     F| 45600|    USA|\n",
            "|     surya|       sur|      sam|1016|     M| 98600|    USA|\n",
            "|    sowmya|       yar|      rao|1017|     F| 45600|    USA|\n",
            "|     pavan|       pam|       pv|1018|     M| 37500|    USA|\n",
            "|     vinay|         s|      eve|1019|     M| 39500|    USA|\n",
            "|     sunil|      somu|      san|1020|     M| 49500|    USA|\n",
            "+----------+----------+---------+----+------+------+-------+\n",
            "\n"
          ]
        }
      ],
      "source": [
        "data1.withColumn(\"counrty\", lit(\"USA\")).show()"
      ]
    },
    {
      "cell_type": "code",
      "execution_count": null,
      "metadata": {
        "colab": {
          "base_uri": "https://localhost:8080/"
        },
        "id": "lnb_xdhTT2ZN",
        "outputId": "e77160c4-3610-4aa9-9834-b52cc3b8f66b"
      },
      "outputs": [
        {
          "output_type": "stream",
          "name": "stdout",
          "text": [
            "+----------+----------+---------+----+------+------+----------+\n",
            "|First_name|Midle_name|Last_name|  ID|Gender|Salary|new_salary|\n",
            "+----------+----------+---------+----+------+------+----------+\n",
            "|      Jhon|       son|    smith|1001|     M| 40000|     42000|\n",
            "|   Michael|      Rose|      rao|1002|     M| 50000|     52000|\n",
            "|    Robert|   William|      rao|1003|     M| 60000|     62000|\n",
            "|    Mariba|       van|      san|1004|     M| 70000|     72000|\n",
            "|       jen|      path|    rahul|1005|     M| 80000|     82000|\n",
            "|     Rohan|       Wil|      ram|1006|     M| 66000|     68000|\n",
            "|    Ravath|       ram|      ram|1007|     M| 67000|     69000|\n",
            "|       san|       sam|      rao|1008|     M| 87000|     89000|\n",
            "|       sam|       ran|      rao|1009|     F| 75000|     77000|\n",
            "|      Rose|        se|      sam|1010|     F| 87000|     89000|\n",
            "|      vaan|       vam|       ra|1011|     M| 55600|     57600|\n",
            "|     vinod|     vinay|      rao|1012|     M| 23400|     25400|\n",
            "|     viraj|       kam|      raj|1013|     M| 67800|     69800|\n",
            "|     varun|     vammn|   shetty|1014|     M| 87600|     89600|\n",
            "|   vandana|      vasu| chawdary|1015|     F| 45600|     47600|\n",
            "|     surya|       sur|      sam|1016|     M| 98600|    100600|\n",
            "|    sowmya|       yar|      rao|1017|     F| 45600|     47600|\n",
            "|     pavan|       pam|       pv|1018|     M| 37500|     39500|\n",
            "|     vinay|         s|      eve|1019|     M| 39500|     41500|\n",
            "|     sunil|      somu|      san|1020|     M| 49500|     51500|\n",
            "+----------+----------+---------+----+------+------+----------+\n",
            "\n"
          ]
        }
      ],
      "source": [
        "data1.withColumn(\"new_salary\",col(\"salary\")+ 2000).show()"
      ]
    },
    {
      "cell_type": "code",
      "execution_count": null,
      "metadata": {
        "colab": {
          "base_uri": "https://localhost:8080/"
        },
        "id": "Uanhd9uhU7go",
        "outputId": "e1a3bea4-1382-4a94-c2f0-dc881c4b6d15"
      },
      "outputs": [
        {
          "output_type": "stream",
          "name": "stdout",
          "text": [
            "+----------+----------+---------+----+------+-------+\n",
            "|First_name|Midle_name|Last_name|  ID|Gender| salary|\n",
            "+----------+----------+---------+----+------+-------+\n",
            "|      Jhon|       son|    smith|1001|     M|4000000|\n",
            "|   Michael|      Rose|      rao|1002|     M|5000000|\n",
            "|    Robert|   William|      rao|1003|     M|6000000|\n",
            "|    Mariba|       van|      san|1004|     M|7000000|\n",
            "|       jen|      path|    rahul|1005|     M|8000000|\n",
            "|     Rohan|       Wil|      ram|1006|     M|6600000|\n",
            "|    Ravath|       ram|      ram|1007|     M|6700000|\n",
            "|       san|       sam|      rao|1008|     M|8700000|\n",
            "|       sam|       ran|      rao|1009|     F|7500000|\n",
            "|      Rose|        se|      sam|1010|     F|8700000|\n",
            "|      vaan|       vam|       ra|1011|     M|5560000|\n",
            "|     vinod|     vinay|      rao|1012|     M|2340000|\n",
            "|     viraj|       kam|      raj|1013|     M|6780000|\n",
            "|     varun|     vammn|   shetty|1014|     M|8760000|\n",
            "|   vandana|      vasu| chawdary|1015|     F|4560000|\n",
            "|     surya|       sur|      sam|1016|     M|9860000|\n",
            "|    sowmya|       yar|      rao|1017|     F|4560000|\n",
            "|     pavan|       pam|       pv|1018|     M|3750000|\n",
            "|     vinay|         s|      eve|1019|     M|3950000|\n",
            "|     sunil|      somu|      san|1020|     M|4950000|\n",
            "+----------+----------+---------+----+------+-------+\n",
            "\n"
          ]
        }
      ],
      "source": [
        "data1.withColumn(\"salary\",col(\"salary\")*100).show()"
      ]
    },
    {
      "cell_type": "code",
      "execution_count": null,
      "metadata": {
        "id": "YsI3I7AXVUEc",
        "colab": {
          "base_uri": "https://localhost:8080/"
        },
        "outputId": "9674ff80-7d58-4f89-98ad-62638fdf37a1"
      },
      "outputs": [
        {
          "output_type": "stream",
          "name": "stdout",
          "text": [
            "+----------+----------+---------+----+------+------+\n",
            "|First_name|Midle_name|Last_name|  ID|Gender|Salary|\n",
            "+----------+----------+---------+----+------+------+\n",
            "|      Jhon|       son|    smith|1001|     M| 40000|\n",
            "|   Michael|      Rose|      rao|1002|     M| 50000|\n",
            "|    Robert|   William|      rao|1003|     M| 60000|\n",
            "|    Mariba|       van|      san|1004|     M| 70000|\n",
            "|       jen|      path|    rahul|1005|     M| 80000|\n",
            "|     Rohan|       Wil|      ram|1006|     M| 66000|\n",
            "|    Ravath|       ram|      ram|1007|     M| 67000|\n",
            "|       san|       sam|      rao|1008|     M| 87000|\n",
            "|       sam|       ran|      rao|1009|     F| 75000|\n",
            "|      Rose|        se|      sam|1010|     F| 87000|\n",
            "|      vaan|       vam|       ra|1011|     M| 55600|\n",
            "|     vinod|     vinay|      rao|1012|     M| 23400|\n",
            "|     viraj|       kam|      raj|1013|     M| 67800|\n",
            "|     varun|     vammn|   shetty|1014|     M| 87600|\n",
            "|   vandana|      vasu| chawdary|1015|     F| 45600|\n",
            "|     surya|       sur|      sam|1016|     M| 98600|\n",
            "|    sowmya|       yar|      rao|1017|     F| 45600|\n",
            "|     pavan|       pam|       pv|1018|     M| 37500|\n",
            "|     vinay|         s|      eve|1019|     M| 39500|\n",
            "|     sunil|      somu|      san|1020|     M| 49500|\n",
            "+----------+----------+---------+----+------+------+\n",
            "\n"
          ]
        }
      ],
      "source": [
        "data1.drop(\"new_salary\").show()"
      ]
    },
    {
      "cell_type": "code",
      "source": [
        "data1.filter(\"gender=='M'\").show()"
      ],
      "metadata": {
        "colab": {
          "base_uri": "https://localhost:8080/"
        },
        "id": "gpWDKc94_Sje",
        "outputId": "f4a34e76-deb7-4b9a-c4c6-1409733fda06"
      },
      "execution_count": null,
      "outputs": [
        {
          "output_type": "stream",
          "name": "stdout",
          "text": [
            "+----------+----------+---------+----+------+------+\n",
            "|First_name|Midle_name|Last_name|  ID|Gender|Salary|\n",
            "+----------+----------+---------+----+------+------+\n",
            "|      Jhon|       son|    smith|1001|     M| 40000|\n",
            "|   Michael|      Rose|      rao|1002|     M| 50000|\n",
            "|    Robert|   William|      rao|1003|     M| 60000|\n",
            "|    Mariba|       van|      san|1004|     M| 70000|\n",
            "|       jen|      path|    rahul|1005|     M| 80000|\n",
            "|     Rohan|       Wil|      ram|1006|     M| 66000|\n",
            "|    Ravath|       ram|      ram|1007|     M| 67000|\n",
            "|       san|       sam|      rao|1008|     M| 87000|\n",
            "|      vaan|       vam|       ra|1011|     M| 55600|\n",
            "|     vinod|     vinay|      rao|1012|     M| 23400|\n",
            "|     viraj|       kam|      raj|1013|     M| 67800|\n",
            "|     varun|     vammn|   shetty|1014|     M| 87600|\n",
            "|     surya|       sur|      sam|1016|     M| 98600|\n",
            "|     pavan|       pam|       pv|1018|     M| 37500|\n",
            "|     vinay|         s|      eve|1019|     M| 39500|\n",
            "|     sunil|      somu|      san|1020|     M| 49500|\n",
            "+----------+----------+---------+----+------+------+\n",
            "\n"
          ]
        }
      ]
    },
    {
      "cell_type": "code",
      "source": [
        "data1.filter(\"gender!='M'\").show()"
      ],
      "metadata": {
        "colab": {
          "base_uri": "https://localhost:8080/"
        },
        "id": "urWG0WkY_S1Y",
        "outputId": "1267994f-349e-4415-87de-d69684540124"
      },
      "execution_count": null,
      "outputs": [
        {
          "output_type": "stream",
          "name": "stdout",
          "text": [
            "+----------+----------+---------+----+------+------+\n",
            "|First_name|Midle_name|Last_name|  ID|Gender|Salary|\n",
            "+----------+----------+---------+----+------+------+\n",
            "|       sam|       ran|      rao|1009|     F| 75000|\n",
            "|      Rose|        se|      sam|1010|     F| 87000|\n",
            "|   vandana|      vasu| chawdary|1015|     F| 45600|\n",
            "|    sowmya|       yar|      rao|1017|     F| 45600|\n",
            "+----------+----------+---------+----+------+------+\n",
            "\n"
          ]
        }
      ]
    },
    {
      "cell_type": "code",
      "source": [
        "data1.filter(\"gender<>'M'\").show()"
      ],
      "metadata": {
        "colab": {
          "base_uri": "https://localhost:8080/"
        },
        "id": "P3pscrS9CJ-b",
        "outputId": "9bc69d00-b4ab-4699-c0f8-6cd1edb6a58f"
      },
      "execution_count": null,
      "outputs": [
        {
          "output_type": "stream",
          "name": "stdout",
          "text": [
            "+----------+----------+---------+----+------+------+\n",
            "|First_name|Midle_name|Last_name|  ID|Gender|Salary|\n",
            "+----------+----------+---------+----+------+------+\n",
            "|       sam|       ran|      rao|1009|     F| 75000|\n",
            "|      Rose|        se|      sam|1010|     F| 87000|\n",
            "|   vandana|      vasu| chawdary|1015|     F| 45600|\n",
            "|    sowmya|       yar|      rao|1017|     F| 45600|\n",
            "+----------+----------+---------+----+------+------+\n",
            "\n"
          ]
        }
      ]
    },
    {
      "cell_type": "code",
      "source": [
        "data1.filter((data1.ID==\"1009\") & (data1.Salary==\"75000\")).show()"
      ],
      "metadata": {
        "colab": {
          "base_uri": "https://localhost:8080/"
        },
        "id": "gpp1FmUjCYP8",
        "outputId": "b946c313-2307-47ae-e2b4-9695db630c0a"
      },
      "execution_count": null,
      "outputs": [
        {
          "output_type": "stream",
          "name": "stdout",
          "text": [
            "+----------+----------+---------+----+------+------+\n",
            "|First_name|Midle_name|Last_name|  ID|Gender|Salary|\n",
            "+----------+----------+---------+----+------+------+\n",
            "|       sam|       ran|      rao|1009|     F| 75000|\n",
            "+----------+----------+---------+----+------+------+\n",
            "\n"
          ]
        }
      ]
    },
    {
      "cell_type": "code",
      "source": [
        "data1.filter((data1.ID==\"1009\") | (data1.Salary==\"75000\")).show()"
      ],
      "metadata": {
        "colab": {
          "base_uri": "https://localhost:8080/"
        },
        "id": "ovKh15UXJPhk",
        "outputId": "f95f265e-da88-48c0-eae9-a136786c50d3"
      },
      "execution_count": null,
      "outputs": [
        {
          "output_type": "stream",
          "name": "stdout",
          "text": [
            "+----------+----------+---------+----+------+------+\n",
            "|First_name|Midle_name|Last_name|  ID|Gender|Salary|\n",
            "+----------+----------+---------+----+------+------+\n",
            "|       sam|       ran|      rao|1009|     F| 75000|\n",
            "+----------+----------+---------+----+------+------+\n",
            "\n"
          ]
        }
      ]
    },
    {
      "cell_type": "code",
      "source": [
        "list=[\"ram\", \"rao\", \"sam\"]\n",
        "data1.filter(data1.Last_name.isin(list)).show()"
      ],
      "metadata": {
        "colab": {
          "base_uri": "https://localhost:8080/"
        },
        "id": "aokIOTGcD25M",
        "outputId": "6c0443d4-a486-4d0e-b6e0-ca2cdedcfb4e"
      },
      "execution_count": null,
      "outputs": [
        {
          "output_type": "stream",
          "name": "stdout",
          "text": [
            "+----------+----------+---------+----+------+------+\n",
            "|First_name|Midle_name|Last_name|  ID|Gender|Salary|\n",
            "+----------+----------+---------+----+------+------+\n",
            "|   Michael|      Rose|      rao|1002|     M| 50000|\n",
            "|    Robert|   William|      rao|1003|     M| 60000|\n",
            "|     Rohan|       Wil|      ram|1006|     M| 66000|\n",
            "|    Ravath|       ram|      ram|1007|     M| 67000|\n",
            "|       san|       sam|      rao|1008|     M| 87000|\n",
            "|       sam|       ran|      rao|1009|     F| 75000|\n",
            "|      Rose|        se|      sam|1010|     F| 87000|\n",
            "|     vinod|     vinay|      rao|1012|     M| 23400|\n",
            "|     surya|       sur|      sam|1016|     M| 98600|\n",
            "|    sowmya|       yar|      rao|1017|     F| 45600|\n",
            "+----------+----------+---------+----+------+------+\n",
            "\n"
          ]
        }
      ]
    },
    {
      "cell_type": "code",
      "source": [
        "list=[\"ram\", \"rao\", \"sam\"]\n",
        "data1.filter(data1.Last_name.isin(list)==False).show()"
      ],
      "metadata": {
        "colab": {
          "base_uri": "https://localhost:8080/"
        },
        "id": "RGJinqgCHa3v",
        "outputId": "cbdca577-2fb8-4e62-b1cd-4b882f47e0ca"
      },
      "execution_count": null,
      "outputs": [
        {
          "output_type": "stream",
          "name": "stdout",
          "text": [
            "+----------+----------+---------+----+------+------+\n",
            "|First_name|Midle_name|Last_name|  ID|Gender|Salary|\n",
            "+----------+----------+---------+----+------+------+\n",
            "|      Jhon|       son|    smith|1001|     M| 40000|\n",
            "|    Mariba|       van|      san|1004|     M| 70000|\n",
            "|       jen|      path|    rahul|1005|     M| 80000|\n",
            "|      vaan|       vam|       ra|1011|     M| 55600|\n",
            "|     viraj|       kam|      raj|1013|     M| 67800|\n",
            "|     varun|     vammn|   shetty|1014|     M| 87600|\n",
            "|   vandana|      vasu| chawdary|1015|     F| 45600|\n",
            "|     pavan|       pam|       pv|1018|     M| 37500|\n",
            "|     vinay|         s|      eve|1019|     M| 39500|\n",
            "|     sunil|      somu|      san|1020|     M| 49500|\n",
            "+----------+----------+---------+----+------+------+\n",
            "\n"
          ]
        }
      ]
    },
    {
      "cell_type": "code",
      "source": [
        "list=[\"ram\", \"rao\", \"sam\"]\n",
        "data1.filter(~data1.Last_name.isin(list)).show()"
      ],
      "metadata": {
        "colab": {
          "base_uri": "https://localhost:8080/"
        },
        "id": "HKxO31WRIKCu",
        "outputId": "9f58d380-cbc4-4047-bb21-b3b7f23ec552"
      },
      "execution_count": null,
      "outputs": [
        {
          "output_type": "stream",
          "name": "stdout",
          "text": [
            "+----------+----------+---------+----+------+------+\n",
            "|First_name|Midle_name|Last_name|  ID|Gender|Salary|\n",
            "+----------+----------+---------+----+------+------+\n",
            "|      Jhon|       son|    smith|1001|     M| 40000|\n",
            "|    Mariba|       van|      san|1004|     M| 70000|\n",
            "|       jen|      path|    rahul|1005|     M| 80000|\n",
            "|      vaan|       vam|       ra|1011|     M| 55600|\n",
            "|     viraj|       kam|      raj|1013|     M| 67800|\n",
            "|     varun|     vammn|   shetty|1014|     M| 87600|\n",
            "|   vandana|      vasu| chawdary|1015|     F| 45600|\n",
            "|     pavan|       pam|       pv|1018|     M| 37500|\n",
            "|     vinay|         s|      eve|1019|     M| 39500|\n",
            "|     sunil|      somu|      san|1020|     M| 49500|\n",
            "+----------+----------+---------+----+------+------+\n",
            "\n"
          ]
        }
      ]
    },
    {
      "cell_type": "code",
      "source": [
        "data1.filter(data1.First_name.startswith(\"M\")).show()"
      ],
      "metadata": {
        "colab": {
          "base_uri": "https://localhost:8080/"
        },
        "id": "W0xJSnikIcPm",
        "outputId": "e2527d43-02f5-4104-eb23-b28d2464a742"
      },
      "execution_count": null,
      "outputs": [
        {
          "output_type": "stream",
          "name": "stdout",
          "text": [
            "+----------+----------+---------+----+------+------+\n",
            "|First_name|Midle_name|Last_name|  ID|Gender|Salary|\n",
            "+----------+----------+---------+----+------+------+\n",
            "|   Michael|      Rose|      rao|1002|     M| 50000|\n",
            "|    Mariba|       van|      san|1004|     M| 70000|\n",
            "+----------+----------+---------+----+------+------+\n",
            "\n"
          ]
        }
      ]
    },
    {
      "cell_type": "code",
      "source": [
        "data1.filter(data1.Last_name.like(\"rao\")).show()"
      ],
      "metadata": {
        "colab": {
          "base_uri": "https://localhost:8080/"
        },
        "id": "brzGYRqjIzw5",
        "outputId": "7ae311ca-9174-4be3-eb06-d90f5937c542"
      },
      "execution_count": null,
      "outputs": [
        {
          "output_type": "stream",
          "name": "stdout",
          "text": [
            "+----------+----------+---------+----+------+------+\n",
            "|First_name|Midle_name|Last_name|  ID|Gender|Salary|\n",
            "+----------+----------+---------+----+------+------+\n",
            "|   Michael|      Rose|      rao|1002|     M| 50000|\n",
            "|    Robert|   William|      rao|1003|     M| 60000|\n",
            "|       san|       sam|      rao|1008|     M| 87000|\n",
            "|       sam|       ran|      rao|1009|     F| 75000|\n",
            "|     vinod|     vinay|      rao|1012|     M| 23400|\n",
            "|    sowmya|       yar|      rao|1017|     F| 45600|\n",
            "+----------+----------+---------+----+------+------+\n",
            "\n"
          ]
        }
      ]
    },
    {
      "cell_type": "code",
      "source": [
        "data1.sort(data1.Salary.desc()).show()"
      ],
      "metadata": {
        "colab": {
          "base_uri": "https://localhost:8080/"
        },
        "id": "Xw74siiXv6Oy",
        "outputId": "2b2908f4-1062-487f-e8aa-d782819b5f1c"
      },
      "execution_count": null,
      "outputs": [
        {
          "output_type": "stream",
          "name": "stdout",
          "text": [
            "+----------+----------+---------+----+------+------+\n",
            "|First_name|Midle_name|Last_name|  ID|Gender|Salary|\n",
            "+----------+----------+---------+----+------+------+\n",
            "|     surya|       sur|      sam|1016|     M| 98600|\n",
            "|     varun|     vammn|   shetty|1014|     M| 87600|\n",
            "|       san|       sam|      rao|1008|     M| 87000|\n",
            "|      Rose|        se|      sam|1010|     F| 87000|\n",
            "|       jen|      path|    rahul|1005|     M| 80000|\n",
            "|       sam|       ran|      rao|1009|     F| 75000|\n",
            "|    Mariba|       van|      san|1004|     M| 70000|\n",
            "|     viraj|       kam|      raj|1013|     M| 67800|\n",
            "|    Ravath|       ram|      ram|1007|     M| 67000|\n",
            "|     Rohan|       Wil|      ram|1006|     M| 66000|\n",
            "|    Robert|   William|      rao|1003|     M| 60000|\n",
            "|      vaan|       vam|       ra|1011|     M| 55600|\n",
            "|   Michael|      Rose|      rao|1002|     M| 50000|\n",
            "|     sunil|      somu|      san|1020|     M| 49500|\n",
            "|    sowmya|       yar|      rao|1017|     F| 45600|\n",
            "|   vandana|      vasu| chawdary|1015|     F| 45600|\n",
            "|      Jhon|       son|    smith|1001|     M| 40000|\n",
            "|     vinay|         s|      eve|1019|     M| 39500|\n",
            "|     pavan|       pam|       pv|1018|     M| 37500|\n",
            "|     vinod|     vinay|      rao|1012|     M| 23400|\n",
            "+----------+----------+---------+----+------+------+\n",
            "\n"
          ]
        }
      ]
    },
    {
      "cell_type": "code",
      "source": [
        "data1.sort(data1.Salary.asc()).show()"
      ],
      "metadata": {
        "colab": {
          "base_uri": "https://localhost:8080/"
        },
        "id": "MwwZs7Wxv51k",
        "outputId": "57ec66e4-8e1f-49de-b12c-261fc2d8ca17"
      },
      "execution_count": null,
      "outputs": [
        {
          "output_type": "stream",
          "name": "stdout",
          "text": [
            "+----------+----------+---------+----+------+------+\n",
            "|First_name|Midle_name|Last_name|  ID|Gender|Salary|\n",
            "+----------+----------+---------+----+------+------+\n",
            "|     vinod|     vinay|      rao|1012|     M| 23400|\n",
            "|     pavan|       pam|       pv|1018|     M| 37500|\n",
            "|     vinay|         s|      eve|1019|     M| 39500|\n",
            "|      Jhon|       son|    smith|1001|     M| 40000|\n",
            "|   vandana|      vasu| chawdary|1015|     F| 45600|\n",
            "|    sowmya|       yar|      rao|1017|     F| 45600|\n",
            "|     sunil|      somu|      san|1020|     M| 49500|\n",
            "|   Michael|      Rose|      rao|1002|     M| 50000|\n",
            "|      vaan|       vam|       ra|1011|     M| 55600|\n",
            "|    Robert|   William|      rao|1003|     M| 60000|\n",
            "|     Rohan|       Wil|      ram|1006|     M| 66000|\n",
            "|    Ravath|       ram|      ram|1007|     M| 67000|\n",
            "|     viraj|       kam|      raj|1013|     M| 67800|\n",
            "|    Mariba|       van|      san|1004|     M| 70000|\n",
            "|       sam|       ran|      rao|1009|     F| 75000|\n",
            "|       jen|      path|    rahul|1005|     M| 80000|\n",
            "|      Rose|        se|      sam|1010|     F| 87000|\n",
            "|       san|       sam|      rao|1008|     M| 87000|\n",
            "|     varun|     vammn|   shetty|1014|     M| 87600|\n",
            "|     surya|       sur|      sam|1016|     M| 98600|\n",
            "+----------+----------+---------+----+------+------+\n",
            "\n"
          ]
        }
      ]
    },
    {
      "cell_type": "code",
      "source": [
        "data1.sort(col(\"First_name\").asc(), col(\"Last_name\").desc()).show()"
      ],
      "metadata": {
        "colab": {
          "base_uri": "https://localhost:8080/"
        },
        "id": "1RwBJDbuIzf1",
        "outputId": "e54043d2-c7cb-4f86-81f9-be57033a8639"
      },
      "execution_count": null,
      "outputs": [
        {
          "output_type": "stream",
          "name": "stdout",
          "text": [
            "+----------+----------+---------+----+------+------+\n",
            "|First_name|Midle_name|Last_name|  ID|Gender|Salary|\n",
            "+----------+----------+---------+----+------+------+\n",
            "|      Jhon|       son|    smith|1001|     M| 40000|\n",
            "|    Mariba|       van|      san|1004|     M| 70000|\n",
            "|   Michael|      Rose|      rao|1002|     M| 50000|\n",
            "|    Ravath|       ram|      ram|1007|     M| 67000|\n",
            "|    Robert|   William|      rao|1003|     M| 60000|\n",
            "|     Rohan|       Wil|      ram|1006|     M| 66000|\n",
            "|      Rose|        se|      sam|1010|     F| 87000|\n",
            "|       jen|      path|    rahul|1005|     M| 80000|\n",
            "|     pavan|       pam|       pv|1018|     M| 37500|\n",
            "|       sam|       ran|      rao|1009|     F| 75000|\n",
            "|       san|       sam|      rao|1008|     M| 87000|\n",
            "|    sowmya|       yar|      rao|1017|     F| 45600|\n",
            "|     sunil|      somu|      san|1020|     M| 49500|\n",
            "|     surya|       sur|      sam|1016|     M| 98600|\n",
            "|      vaan|       vam|       ra|1011|     M| 55600|\n",
            "|   vandana|      vasu| chawdary|1015|     F| 45600|\n",
            "|     varun|     vammn|   shetty|1014|     M| 87600|\n",
            "|     vinay|         s|      eve|1019|     M| 39500|\n",
            "|     vinod|     vinay|      rao|1012|     M| 23400|\n",
            "|     viraj|       kam|      raj|1013|     M| 67800|\n",
            "+----------+----------+---------+----+------+------+\n",
            "\n"
          ]
        }
      ]
    },
    {
      "cell_type": "code",
      "source": [],
      "metadata": {
        "id": "CxfXvEay1mog"
      },
      "execution_count": null,
      "outputs": []
    }
  ],
  "metadata": {
    "colab": {
      "provenance": [],
      "authorship_tag": "ABX9TyMXzpaawGUBWLbzqBp6VdBX",
      "include_colab_link": true
    },
    "kernelspec": {
      "display_name": "Python 3",
      "name": "python3"
    },
    "language_info": {
      "name": "python"
    }
  },
  "nbformat": 4,
  "nbformat_minor": 0
}