{
  "nbformat": 4,
  "nbformat_minor": 0,
  "metadata": {
    "colab": {
      "provenance": [],
      "authorship_tag": "ABX9TyMDkBEMQM/Z4Tzil6Lue4CS",
      "include_colab_link": true
    },
    "kernelspec": {
      "name": "python3",
      "display_name": "Python 3"
    },
    "language_info": {
      "name": "python"
    }
  },
  "cells": [
    {
      "cell_type": "markdown",
      "metadata": {
        "id": "view-in-github",
        "colab_type": "text"
      },
      "source": [
        "<a href=\"https://colab.research.google.com/github/VinuthaTC/vinu111/blob/main/14_12_2022_task.ipynb\" target=\"_parent\"><img src=\"https://colab.research.google.com/assets/colab-badge.svg\" alt=\"Open In Colab\"/></a>"
      ]
    },
    {
      "cell_type": "code",
      "execution_count": 1,
      "metadata": {
        "colab": {
          "base_uri": "https://localhost:8080/"
        },
        "id": "kn47GMmHEt_2",
        "outputId": "7f7deb9b-2e7c-4412-af05-3ae8ec466f2c"
      },
      "outputs": [
        {
          "output_type": "stream",
          "name": "stdout",
          "text": [
            "Looking in indexes: https://pypi.org/simple, https://us-python.pkg.dev/colab-wheels/public/simple/\n",
            "Collecting pyspark\n",
            "  Downloading pyspark-3.3.1.tar.gz (281.4 MB)\n",
            "\u001b[K     |████████████████████████████████| 281.4 MB 35 kB/s \n",
            "\u001b[?25hCollecting py4j==0.10.9.5\n",
            "  Downloading py4j-0.10.9.5-py2.py3-none-any.whl (199 kB)\n",
            "\u001b[K     |████████████████████████████████| 199 kB 51.3 MB/s \n",
            "\u001b[?25hBuilding wheels for collected packages: pyspark\n",
            "  Building wheel for pyspark (setup.py) ... \u001b[?25l\u001b[?25hdone\n",
            "  Created wheel for pyspark: filename=pyspark-3.3.1-py2.py3-none-any.whl size=281845512 sha256=96bd0cb0088f8bfd5596de2b915a8fce261ec075acfdb9ef2406b116a60e30f4\n",
            "  Stored in directory: /root/.cache/pip/wheels/43/dc/11/ec201cd671da62fa9c5cc77078235e40722170ceba231d7598\n",
            "Successfully built pyspark\n",
            "Installing collected packages: py4j, pyspark\n",
            "Successfully installed py4j-0.10.9.5 pyspark-3.3.1\n"
          ]
        }
      ],
      "source": [
        "pip install pyspark"
      ]
    },
    {
      "cell_type": "code",
      "source": [
        "from pyspark.sql import SparkSession"
      ],
      "metadata": {
        "id": "Wh80F3HiFxpr"
      },
      "execution_count": 2,
      "outputs": []
    },
    {
      "cell_type": "code",
      "source": [
        "spark = SparkSession.builder.appName('sparkdf').getOrCreate()"
      ],
      "metadata": {
        "id": "b66xLTvAFxeH"
      },
      "execution_count": 3,
      "outputs": []
    },
    {
      "cell_type": "markdown",
      "source": [
        "First data frame"
      ],
      "metadata": {
        "id": "11e5-22DHMky"
      }
    },
    {
      "cell_type": "code",
      "source": [
        "data = [[\"1\", \"sravan\", \"company 1\"],\n",
        "        [\"2\", \"ojaswi\", \"company 1\"], \n",
        "        [\"3\", \"rohith\", \"company 2\"],\n",
        "        [\"4\", \"sridevi\", \"company 1\"], \n",
        "        [\"5\", \"bobby\", \"company 1\"]]"
      ],
      "metadata": {
        "id": "dIPD2S9dF6yA"
      },
      "execution_count": 4,
      "outputs": []
    },
    {
      "cell_type": "code",
      "source": [
        "columns = ['ID', 'NAME', 'Company']"
      ],
      "metadata": {
        "id": "2gIUvcOBGauo"
      },
      "execution_count": 5,
      "outputs": []
    },
    {
      "cell_type": "code",
      "source": [
        "dataframe = spark.createDataFrame(data, columns)\n",
        "  \n",
        "dataframe.show()"
      ],
      "metadata": {
        "colab": {
          "base_uri": "https://localhost:8080/"
        },
        "id": "TU5lca7LGajK",
        "outputId": "4c5ce8de-b086-4e84-c036-8836c3fb9f98"
      },
      "execution_count": 6,
      "outputs": [
        {
          "output_type": "stream",
          "name": "stdout",
          "text": [
            "+---+-------+---------+\n",
            "| ID|   NAME|  Company|\n",
            "+---+-------+---------+\n",
            "|  1| sravan|company 1|\n",
            "|  2| ojaswi|company 1|\n",
            "|  3| rohith|company 2|\n",
            "|  4|sridevi|company 1|\n",
            "|  5|  bobby|company 1|\n",
            "+---+-------+---------+\n",
            "\n"
          ]
        }
      ]
    },
    {
      "cell_type": "markdown",
      "source": [
        "Second data frame"
      ],
      "metadata": {
        "id": "6Bp3Ttb-HXSO"
      }
    },
    {
      "cell_type": "code",
      "source": [
        "data1 = [[\"1\", \"45000\", \"IT\"],\n",
        "         [\"2\", \"145000\", \"Manager\"],\n",
        "         [\"6\", \"45000\", \"HR\"],\n",
        "         [\"5\", \"34000\", \"Sales\"]]\n",
        "  "
      ],
      "metadata": {
        "id": "2-_ChDoAGvVx"
      },
      "execution_count": 7,
      "outputs": []
    },
    {
      "cell_type": "code",
      "source": [
        "columns = ['ID', 'salary', 'department']"
      ],
      "metadata": {
        "id": "NKwlj_0uGu3n"
      },
      "execution_count": 8,
      "outputs": []
    },
    {
      "cell_type": "code",
      "source": [
        "dataframe1 = spark.createDataFrame(data1, columns)\n",
        "  \n",
        "dataframe1.show()"
      ],
      "metadata": {
        "colab": {
          "base_uri": "https://localhost:8080/"
        },
        "id": "-uMqAIsZHhfE",
        "outputId": "06d578fd-7ebd-4153-cd9d-ff4ea6c58b25"
      },
      "execution_count": 9,
      "outputs": [
        {
          "output_type": "stream",
          "name": "stdout",
          "text": [
            "+---+------+----------+\n",
            "| ID|salary|department|\n",
            "+---+------+----------+\n",
            "|  1| 45000|        IT|\n",
            "|  2|145000|   Manager|\n",
            "|  6| 45000|        HR|\n",
            "|  5| 34000|     Sales|\n",
            "+---+------+----------+\n",
            "\n"
          ]
        }
      ]
    },
    {
      "cell_type": "markdown",
      "source": [
        "inner join"
      ],
      "metadata": {
        "id": "xgtjSEgwIC5D"
      }
    },
    {
      "cell_type": "code",
      "source": [
        "dataframe.join(dataframe1,\n",
        "               dataframe.ID == dataframe1.ID,\n",
        "               \"inner\").show()"
      ],
      "metadata": {
        "colab": {
          "base_uri": "https://localhost:8080/"
        },
        "id": "OmW__bcpHhJx",
        "outputId": "6c6e1473-c4a9-4b5d-8e7e-c480d223e828"
      },
      "execution_count": 10,
      "outputs": [
        {
          "output_type": "stream",
          "name": "stdout",
          "text": [
            "+---+------+---------+---+------+----------+\n",
            "| ID|  NAME|  Company| ID|salary|department|\n",
            "+---+------+---------+---+------+----------+\n",
            "|  1|sravan|company 1|  1| 45000|        IT|\n",
            "|  2|ojaswi|company 1|  2|145000|   Manager|\n",
            "|  5| bobby|company 1|  5| 34000|     Sales|\n",
            "+---+------+---------+---+------+----------+\n",
            "\n"
          ]
        }
      ]
    },
    {
      "cell_type": "markdown",
      "source": [
        "outer join"
      ],
      "metadata": {
        "id": "g5e0ocqHIQan"
      }
    },
    {
      "cell_type": "code",
      "source": [
        "dataframe.join(dataframe1, \n",
        "               dataframe.ID == dataframe1.ID, \n",
        "               \"outer\").show()"
      ],
      "metadata": {
        "colab": {
          "base_uri": "https://localhost:8080/"
        },
        "id": "13LuTt53IJQb",
        "outputId": "86f90d77-4b8b-47aa-e3e3-675bdcae6860"
      },
      "execution_count": 11,
      "outputs": [
        {
          "output_type": "stream",
          "name": "stdout",
          "text": [
            "+----+-------+---------+----+------+----------+\n",
            "|  ID|   NAME|  Company|  ID|salary|department|\n",
            "+----+-------+---------+----+------+----------+\n",
            "|   1| sravan|company 1|   1| 45000|        IT|\n",
            "|   2| ojaswi|company 1|   2|145000|   Manager|\n",
            "|   3| rohith|company 2|null|  null|      null|\n",
            "|   4|sridevi|company 1|null|  null|      null|\n",
            "|   5|  bobby|company 1|   5| 34000|     Sales|\n",
            "|null|   null|     null|   6| 45000|        HR|\n",
            "+----+-------+---------+----+------+----------+\n",
            "\n"
          ]
        }
      ]
    },
    {
      "cell_type": "markdown",
      "source": [
        "outer join using full key word"
      ],
      "metadata": {
        "id": "fUHGJI7OIyLx"
      }
    },
    {
      "cell_type": "code",
      "source": [
        "dataframe.join(dataframe1,\n",
        "               dataframe.ID == dataframe1.ID, \n",
        "               \"full\").show()"
      ],
      "metadata": {
        "colab": {
          "base_uri": "https://localhost:8080/"
        },
        "id": "0A88Mx4VIkAc",
        "outputId": "ca312033-400b-4417-87ae-2d1ac1309f3c"
      },
      "execution_count": 12,
      "outputs": [
        {
          "output_type": "stream",
          "name": "stdout",
          "text": [
            "+----+-------+---------+----+------+----------+\n",
            "|  ID|   NAME|  Company|  ID|salary|department|\n",
            "+----+-------+---------+----+------+----------+\n",
            "|   1| sravan|company 1|   1| 45000|        IT|\n",
            "|   2| ojaswi|company 1|   2|145000|   Manager|\n",
            "|   3| rohith|company 2|null|  null|      null|\n",
            "|   4|sridevi|company 1|null|  null|      null|\n",
            "|   5|  bobby|company 1|   5| 34000|     Sales|\n",
            "|null|   null|     null|   6| 45000|        HR|\n",
            "+----+-------+---------+----+------+----------+\n",
            "\n"
          ]
        }
      ]
    },
    {
      "cell_type": "markdown",
      "source": [
        "fullouter keyword"
      ],
      "metadata": {
        "id": "7Mwk8L82I9i_"
      }
    },
    {
      "cell_type": "code",
      "source": [
        "dataframe.join(dataframe1, \n",
        "               dataframe.ID == dataframe1.ID,\n",
        "               \"fullouter\").show()"
      ],
      "metadata": {
        "colab": {
          "base_uri": "https://localhost:8080/"
        },
        "id": "xFJE4NIwIJDo",
        "outputId": "cc0ba40b-822f-40f9-ff2b-1d5fac451f15"
      },
      "execution_count": 13,
      "outputs": [
        {
          "output_type": "stream",
          "name": "stdout",
          "text": [
            "+----+-------+---------+----+------+----------+\n",
            "|  ID|   NAME|  Company|  ID|salary|department|\n",
            "+----+-------+---------+----+------+----------+\n",
            "|   1| sravan|company 1|   1| 45000|        IT|\n",
            "|   2| ojaswi|company 1|   2|145000|   Manager|\n",
            "|   3| rohith|company 2|null|  null|      null|\n",
            "|   4|sridevi|company 1|null|  null|      null|\n",
            "|   5|  bobby|company 1|   5| 34000|     Sales|\n",
            "|null|   null|     null|   6| 45000|        HR|\n",
            "+----+-------+---------+----+------+----------+\n",
            "\n"
          ]
        }
      ]
    },
    {
      "cell_type": "markdown",
      "source": [
        "left join"
      ],
      "metadata": {
        "id": "TmkX9zK9JMic"
      }
    },
    {
      "cell_type": "code",
      "source": [
        "dataframe.join(dataframe1,\n",
        "               dataframe.ID == dataframe1.ID, \n",
        "               \"left\").show()"
      ],
      "metadata": {
        "colab": {
          "base_uri": "https://localhost:8080/"
        },
        "id": "TveL5MBGJFBm",
        "outputId": "bcc1f161-165e-43a9-c3aa-f164c1a9ea37"
      },
      "execution_count": 14,
      "outputs": [
        {
          "output_type": "stream",
          "name": "stdout",
          "text": [
            "+---+-------+---------+----+------+----------+\n",
            "| ID|   NAME|  Company|  ID|salary|department|\n",
            "+---+-------+---------+----+------+----------+\n",
            "|  1| sravan|company 1|   1| 45000|        IT|\n",
            "|  2| ojaswi|company 1|   2|145000|   Manager|\n",
            "|  3| rohith|company 2|null|  null|      null|\n",
            "|  5|  bobby|company 1|   5| 34000|     Sales|\n",
            "|  4|sridevi|company 1|null|  null|      null|\n",
            "+---+-------+---------+----+------+----------+\n",
            "\n"
          ]
        }
      ]
    },
    {
      "cell_type": "code",
      "source": [
        "dataframe.join(dataframe1, \n",
        "               dataframe.ID == dataframe1.ID, \n",
        "               \"leftouter\").show()"
      ],
      "metadata": {
        "colab": {
          "base_uri": "https://localhost:8080/"
        },
        "id": "ig02roqlJEn6",
        "outputId": "5dde4d05-8770-40d4-a5b7-36392085db8b"
      },
      "execution_count": 15,
      "outputs": [
        {
          "output_type": "stream",
          "name": "stdout",
          "text": [
            "+---+-------+---------+----+------+----------+\n",
            "| ID|   NAME|  Company|  ID|salary|department|\n",
            "+---+-------+---------+----+------+----------+\n",
            "|  1| sravan|company 1|   1| 45000|        IT|\n",
            "|  2| ojaswi|company 1|   2|145000|   Manager|\n",
            "|  3| rohith|company 2|null|  null|      null|\n",
            "|  5|  bobby|company 1|   5| 34000|     Sales|\n",
            "|  4|sridevi|company 1|null|  null|      null|\n",
            "+---+-------+---------+----+------+----------+\n",
            "\n"
          ]
        }
      ]
    },
    {
      "cell_type": "code",
      "source": [
        "dataframe.join(dataframe1, \n",
        "               dataframe.ID == dataframe1.ID, \n",
        "               \"right\").show()"
      ],
      "metadata": {
        "colab": {
          "base_uri": "https://localhost:8080/"
        },
        "id": "lI_GJNVsJ3e1",
        "outputId": "2bb9208d-650c-4ae8-9063-fe069e0c4c25"
      },
      "execution_count": 16,
      "outputs": [
        {
          "output_type": "stream",
          "name": "stdout",
          "text": [
            "+----+------+---------+---+------+----------+\n",
            "|  ID|  NAME|  Company| ID|salary|department|\n",
            "+----+------+---------+---+------+----------+\n",
            "|   1|sravan|company 1|  1| 45000|        IT|\n",
            "|   2|ojaswi|company 1|  2|145000|   Manager|\n",
            "|   5| bobby|company 1|  5| 34000|     Sales|\n",
            "|null|  null|     null|  6| 45000|        HR|\n",
            "+----+------+---------+---+------+----------+\n",
            "\n"
          ]
        }
      ]
    },
    {
      "cell_type": "code",
      "source": [
        "dataframe.join(dataframe1,\n",
        "               dataframe.ID == dataframe1.ID, \n",
        "               \"rightouter\").show()"
      ],
      "metadata": {
        "colab": {
          "base_uri": "https://localhost:8080/"
        },
        "id": "LJAuMEJeJ5Mk",
        "outputId": "9aaafa77-bb96-4edb-9e02-e6b0718cb7d1"
      },
      "execution_count": 17,
      "outputs": [
        {
          "output_type": "stream",
          "name": "stdout",
          "text": [
            "+----+------+---------+---+------+----------+\n",
            "|  ID|  NAME|  Company| ID|salary|department|\n",
            "+----+------+---------+---+------+----------+\n",
            "|   1|sravan|company 1|  1| 45000|        IT|\n",
            "|   2|ojaswi|company 1|  2|145000|   Manager|\n",
            "|   5| bobby|company 1|  5| 34000|     Sales|\n",
            "|null|  null|     null|  6| 45000|        HR|\n",
            "+----+------+---------+---+------+----------+\n",
            "\n"
          ]
        }
      ]
    },
    {
      "cell_type": "markdown",
      "source": [
        " gives only those rows in the left rowset that have a matching row in the right rowset"
      ],
      "metadata": {
        "id": "BJanNTQWONx4"
      }
    },
    {
      "cell_type": "code",
      "source": [
        "dataframe.join(dataframe1,\n",
        "               dataframe.ID == dataframe1.ID, \n",
        "               \"leftsemi\").show()"
      ],
      "metadata": {
        "colab": {
          "base_uri": "https://localhost:8080/"
        },
        "id": "6dFZWWw9J5sc",
        "outputId": "aa14802f-a47d-41e1-ee9f-8af5413c4185"
      },
      "execution_count": 18,
      "outputs": [
        {
          "output_type": "stream",
          "name": "stdout",
          "text": [
            "+---+------+---------+\n",
            "| ID|  NAME|  Company|\n",
            "+---+------+---------+\n",
            "|  1|sravan|company 1|\n",
            "|  2|ojaswi|company 1|\n",
            "|  5| bobby|company 1|\n",
            "+---+------+---------+\n",
            "\n"
          ]
        }
      ]
    },
    {
      "cell_type": "markdown",
      "source": [
        "# LeftAnti join ( which brings in only rows from the left table that don't have any matching rows from the right table)"
      ],
      "metadata": {
        "id": "hcQ-I9k_NutJ"
      }
    },
    {
      "cell_type": "code",
      "source": [
        "dataframe.join(dataframe1,\n",
        "               dataframe.ID == dataframe1.ID, \n",
        "               \"leftanti\").show()"
      ],
      "metadata": {
        "colab": {
          "base_uri": "https://localhost:8080/"
        },
        "id": "D0feMHbsNspT",
        "outputId": "61a53469-827d-4ee0-9484-67175a9ac02a"
      },
      "execution_count": 19,
      "outputs": [
        {
          "output_type": "stream",
          "name": "stdout",
          "text": [
            "+---+-------+---------+\n",
            "| ID|   NAME|  Company|\n",
            "+---+-------+---------+\n",
            "|  3| rohith|company 2|\n",
            "|  4|sridevi|company 1|\n",
            "+---+-------+---------+\n",
            "\n"
          ]
        }
      ]
    },
    {
      "cell_type": "code",
      "source": [
        "dataframe1.orderBy(\"salary\").show()"
      ],
      "metadata": {
        "colab": {
          "base_uri": "https://localhost:8080/"
        },
        "id": "mzegXGDvcyMW",
        "outputId": "258dc39f-618a-4747-cc95-9748ef1cbf94"
      },
      "execution_count": 20,
      "outputs": [
        {
          "output_type": "stream",
          "name": "stdout",
          "text": [
            "+---+------+----------+\n",
            "| ID|salary|department|\n",
            "+---+------+----------+\n",
            "|  2|145000|   Manager|\n",
            "|  5| 34000|     Sales|\n",
            "|  6| 45000|        HR|\n",
            "|  1| 45000|        IT|\n",
            "+---+------+----------+\n",
            "\n"
          ]
        }
      ]
    },
    {
      "cell_type": "code",
      "source": [
        "dataframe1.orderBy(dataframe1[\"salary\"].desc()).show()"
      ],
      "metadata": {
        "colab": {
          "base_uri": "https://localhost:8080/"
        },
        "id": "sx5ln0E8bJi0",
        "outputId": "ca51d6bb-614d-4d68-a220-edd79866936d"
      },
      "execution_count": null,
      "outputs": [
        {
          "output_type": "stream",
          "name": "stdout",
          "text": [
            "+---+------+----------+\n",
            "| ID|salary|department|\n",
            "+---+------+----------+\n",
            "|  1| 45000|        IT|\n",
            "|  6| 45000|        HR|\n",
            "|  5| 34000|     Sales|\n",
            "|  2|145000|   Manager|\n",
            "+---+------+----------+\n",
            "\n"
          ]
        }
      ]
    },
    {
      "cell_type": "code",
      "source": [
        "dataframe1.groupBy('salary').sum().show()"
      ],
      "metadata": {
        "colab": {
          "base_uri": "https://localhost:8080/"
        },
        "id": "xuy1uEwZc4cO",
        "outputId": "911604a5-9e13-4ee7-a4ea-8ad1a176585a"
      },
      "execution_count": 21,
      "outputs": [
        {
          "output_type": "stream",
          "name": "stdout",
          "text": [
            "+------+\n",
            "|salary|\n",
            "+------+\n",
            "|145000|\n",
            "| 45000|\n",
            "| 34000|\n",
            "+------+\n",
            "\n"
          ]
        }
      ]
    },
    {
      "cell_type": "code",
      "source": [
        "data = dataframe1.groupBy(\"department\")\n",
        "data.agg({'salary':'min'}).show()"
      ],
      "metadata": {
        "colab": {
          "base_uri": "https://localhost:8080/"
        },
        "id": "Rm73-Sfrc35w",
        "outputId": "5d3f33a2-40a3-4377-9058-36c642f25146"
      },
      "execution_count": 24,
      "outputs": [
        {
          "output_type": "stream",
          "name": "stdout",
          "text": [
            "+----------+-----------+\n",
            "|department|min(salary)|\n",
            "+----------+-----------+\n",
            "|        HR|      45000|\n",
            "|        IT|      45000|\n",
            "|   Manager|     145000|\n",
            "|     Sales|      34000|\n",
            "+----------+-----------+\n",
            "\n"
          ]
        }
      ]
    }
  ]
}