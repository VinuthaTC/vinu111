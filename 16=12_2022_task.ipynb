{
  "nbformat": 4,
  "nbformat_minor": 0,
  "metadata": {
    "colab": {
      "provenance": [],
      "authorship_tag": "ABX9TyMhe0z39JGdxpy/CF5MqHgQ",
      "include_colab_link": true
    },
    "kernelspec": {
      "name": "python3",
      "display_name": "Python 3"
    },
    "language_info": {
      "name": "python"
    }
  },
  "cells": [
    {
      "cell_type": "markdown",
      "metadata": {
        "id": "view-in-github",
        "colab_type": "text"
      },
      "source": [
        "<a href=\"https://colab.research.google.com/github/VinuthaTC/vinu111/blob/main/16%3D12_2022_task.ipynb\" target=\"_parent\"><img src=\"https://colab.research.google.com/assets/colab-badge.svg\" alt=\"Open In Colab\"/></a>"
      ]
    },
    {
      "cell_type": "code",
      "execution_count": 1,
      "metadata": {
        "colab": {
          "base_uri": "https://localhost:8080/"
        },
        "id": "5_JyJfkuuA0Z",
        "outputId": "4a1ff048-4ec3-4993-9a39-02aeda3918ef"
      },
      "outputs": [
        {
          "output_type": "stream",
          "name": "stdout",
          "text": [
            "Looking in indexes: https://pypi.org/simple, https://us-python.pkg.dev/colab-wheels/public/simple/\n",
            "Collecting pyspark\n",
            "  Downloading pyspark-3.3.1.tar.gz (281.4 MB)\n",
            "\u001b[K     |████████████████████████████████| 281.4 MB 43 kB/s \n",
            "\u001b[?25hCollecting py4j==0.10.9.5\n",
            "  Downloading py4j-0.10.9.5-py2.py3-none-any.whl (199 kB)\n",
            "\u001b[K     |████████████████████████████████| 199 kB 57.3 MB/s \n",
            "\u001b[?25hBuilding wheels for collected packages: pyspark\n",
            "  Building wheel for pyspark (setup.py) ... \u001b[?25l\u001b[?25hdone\n",
            "  Created wheel for pyspark: filename=pyspark-3.3.1-py2.py3-none-any.whl size=281845512 sha256=38c86022beadf41a857d88d9277e916863eca4785e3e5be0d624469fb4b8f85b\n",
            "  Stored in directory: /root/.cache/pip/wheels/43/dc/11/ec201cd671da62fa9c5cc77078235e40722170ceba231d7598\n",
            "Successfully built pyspark\n",
            "Installing collected packages: py4j, pyspark\n",
            "Successfully installed py4j-0.10.9.5 pyspark-3.3.1\n"
          ]
        }
      ],
      "source": [
        "pip install pyspark"
      ]
    },
    {
      "cell_type": "code",
      "source": [
        "from pyspark.sql.window import Window"
      ],
      "metadata": {
        "id": "jNroqENuydRS"
      },
      "execution_count": 13,
      "outputs": []
    },
    {
      "cell_type": "code",
      "source": [
        "from pyspark.sql import SparkSession"
      ],
      "metadata": {
        "id": "YxNrdYExuQ4-"
      },
      "execution_count": 2,
      "outputs": []
    },
    {
      "cell_type": "code",
      "source": [
        "spark = SparkSession.builder.appName(\"SparkByExamples.com\").getOrCreate()\n",
        "df = spark.read.csv(\"/content/order_table.csv\", header=True)\n",
        "df.printSchema()\n",
        "df.show()"
      ],
      "metadata": {
        "colab": {
          "base_uri": "https://localhost:8080/"
        },
        "id": "WwPi0GBmuRbE",
        "outputId": "25c208a4-647c-4e01-b51d-28cc115d5dbc"
      },
      "execution_count": 24,
      "outputs": [
        {
          "output_type": "stream",
          "name": "stdout",
          "text": [
            "root\n",
            " |-- order_id: string (nullable = true)\n",
            " |-- product_id: string (nullable = true)\n",
            " |-- customer_id: string (nullable = true)\n",
            " |-- quantity: string (nullable = true)\n",
            "\n",
            "+--------+----------+-----------+--------+\n",
            "|order_id|product_id|customer_id|quantity|\n",
            "+--------+----------+-----------+--------+\n",
            "|    O001|        P1|       C001|      12|\n",
            "|    O002|        P2|       C002|      13|\n",
            "|    O003|        P3|       C003|      40|\n",
            "|    O004|        P4|       C004|      20|\n",
            "|    O005|        P5|       C005|      40|\n",
            "|    O006|        P6|       C006|      12|\n",
            "+--------+----------+-----------+--------+\n",
            "\n"
          ]
        }
      ]
    },
    {
      "cell_type": "code",
      "source": [
        "windowPartition = Window.partitionBy(\"customer_id\").orderBy(\"quantity\")"
      ],
      "metadata": {
        "id": "r1xj6zaIwRh3"
      },
      "execution_count": 25,
      "outputs": []
    },
    {
      "cell_type": "code",
      "source": [
        "\n",
        "df.show()"
      ],
      "metadata": {
        "colab": {
          "base_uri": "https://localhost:8080/"
        },
        "id": "QOiSTM_0wRSf",
        "outputId": "2c27097e-58ff-40be-fd90-6fd372cf3970"
      },
      "execution_count": 26,
      "outputs": [
        {
          "output_type": "stream",
          "name": "stdout",
          "text": [
            "+--------+----------+-----------+--------+\n",
            "|order_id|product_id|customer_id|quantity|\n",
            "+--------+----------+-----------+--------+\n",
            "|    O001|        P1|       C001|      12|\n",
            "|    O002|        P2|       C002|      13|\n",
            "|    O003|        P3|       C003|      40|\n",
            "|    O004|        P4|       C004|      20|\n",
            "|    O005|        P5|       C005|      40|\n",
            "|    O006|        P6|       C006|      12|\n",
            "+--------+----------+-----------+--------+\n",
            "\n"
          ]
        }
      ]
    },
    {
      "cell_type": "code",
      "source": [
        "from pyspark.sql.functions import lead"
      ],
      "metadata": {
        "id": "vg_0tNITzhJ4"
      },
      "execution_count": 27,
      "outputs": []
    },
    {
      "cell_type": "code",
      "source": [
        "df.withColumn(\"Lead\", lead(\"quantity\", 2).over(windowPartition)) \\\n",
        "    .show()"
      ],
      "metadata": {
        "colab": {
          "base_uri": "https://localhost:8080/"
        },
        "id": "TNNp2oHVzg9p",
        "outputId": "cd25c5f4-c004-48bd-f233-11697957b9bc"
      },
      "execution_count": 28,
      "outputs": [
        {
          "output_type": "stream",
          "name": "stdout",
          "text": [
            "+--------+----------+-----------+--------+----+\n",
            "|order_id|product_id|customer_id|quantity|Lead|\n",
            "+--------+----------+-----------+--------+----+\n",
            "|    O001|        P1|       C001|      12|null|\n",
            "|    O002|        P2|       C002|      13|null|\n",
            "|    O003|        P3|       C003|      40|null|\n",
            "|    O004|        P4|       C004|      20|null|\n",
            "|    O005|        P5|       C005|      40|null|\n",
            "|    O006|        P6|       C006|      12|null|\n",
            "+--------+----------+-----------+--------+----+\n",
            "\n"
          ]
        }
      ]
    },
    {
      "cell_type": "code",
      "source": [
        "df.write.option(\"header\",True) \\\n",
        " .csv(\"/content/order_table123.csv\")"
      ],
      "metadata": {
        "id": "ZfMXqawd2NUK"
      },
      "execution_count": 29,
      "outputs": []
    },
    {
      "cell_type": "code",
      "source": [],
      "metadata": {
        "id": "77oc787V2N5Z"
      },
      "execution_count": null,
      "outputs": []
    }
  ]
}