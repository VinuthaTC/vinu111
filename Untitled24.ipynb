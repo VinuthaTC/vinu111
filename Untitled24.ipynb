{
  "cells": [
    {
      "cell_type": "markdown",
      "metadata": {
        "id": "view-in-github",
        "colab_type": "text"
      },
      "source": [
        "<a href=\"https://colab.research.google.com/github/VinuthaTC/vinu111/blob/main/Untitled24.ipynb\" target=\"_parent\"><img src=\"https://colab.research.google.com/assets/colab-badge.svg\" alt=\"Open In Colab\"/></a>"
      ]
    },
    {
      "cell_type": "code",
      "execution_count": 1,
      "metadata": {
        "colab": {
          "base_uri": "https://localhost:8080/"
        },
        "id": "2rJReezJlJ4i",
        "outputId": "d7e95f2a-6d1a-4e8d-abb9-e1d7f2deceb5"
      },
      "outputs": [
        {
          "output_type": "stream",
          "name": "stdout",
          "text": [
            "Looking in indexes: https://pypi.org/simple, https://us-python.pkg.dev/colab-wheels/public/simple/\n",
            "Collecting pyspark\n",
            "  Downloading pyspark-3.3.1.tar.gz (281.4 MB)\n",
            "\u001b[K     |████████████████████████████████| 281.4 MB 45 kB/s \n",
            "\u001b[?25hCollecting py4j==0.10.9.5\n",
            "  Downloading py4j-0.10.9.5-py2.py3-none-any.whl (199 kB)\n",
            "\u001b[K     |████████████████████████████████| 199 kB 58.5 MB/s \n",
            "\u001b[?25hBuilding wheels for collected packages: pyspark\n",
            "  Building wheel for pyspark (setup.py) ... \u001b[?25l\u001b[?25hdone\n",
            "  Created wheel for pyspark: filename=pyspark-3.3.1-py2.py3-none-any.whl size=281845512 sha256=4c27587b97838b41104ce65da82b5cfd6bffb7bbce2a1d8df25eab808a590618\n",
            "  Stored in directory: /root/.cache/pip/wheels/43/dc/11/ec201cd671da62fa9c5cc77078235e40722170ceba231d7598\n",
            "Successfully built pyspark\n",
            "Installing collected packages: py4j, pyspark\n",
            "Successfully installed py4j-0.10.9.5 pyspark-3.3.1\n"
          ]
        }
      ],
      "source": [
        "pip install pyspark"
      ]
    },
    {
      "cell_type": "code",
      "execution_count": 2,
      "metadata": {
        "id": "jc_LAVcBozPc"
      },
      "outputs": [],
      "source": [
        "from pyspark.sql import SparkSession"
      ]
    },
    {
      "cell_type": "code",
      "execution_count": 3,
      "metadata": {
        "id": "Wg6qK2W1pCU-"
      },
      "outputs": [],
      "source": [
        "spark=SparkSession.builder.appName(\"spark jobs\").getOrCreate()"
      ]
    },
    {
      "cell_type": "code",
      "execution_count": 9,
      "metadata": {
        "id": "85dgBqUxrNWV"
      },
      "outputs": [],
      "source": [
        "df= spark.read.csv(\"/content/sample_data/california_housing_test.csv\", header=True)"
      ]
    },
    {
      "cell_type": "code",
      "execution_count": 10,
      "metadata": {
        "colab": {
          "base_uri": "https://localhost:8080/"
        },
        "id": "vhSNc36prlYQ",
        "outputId": "2a9b3ee8-53de-476c-8a42-5783683934e6"
      },
      "outputs": [
        {
          "output_type": "stream",
          "name": "stdout",
          "text": [
            "+-----------+---------+------------------+-----------+--------------+-----------+-----------+-------------+------------------+\n",
            "|  longitude| latitude|housing_median_age|total_rooms|total_bedrooms| population| households|median_income|median_house_value|\n",
            "+-----------+---------+------------------+-----------+--------------+-----------+-----------+-------------+------------------+\n",
            "|-122.050000|37.370000|         27.000000|3885.000000|    661.000000|1537.000000| 606.000000|     6.608500|     344700.000000|\n",
            "|-118.300000|34.260000|         43.000000|1510.000000|    310.000000| 809.000000| 277.000000|     3.599000|     176500.000000|\n",
            "|-117.810000|33.780000|         27.000000|3589.000000|    507.000000|1484.000000| 495.000000|     5.793400|     270500.000000|\n",
            "|-118.360000|33.820000|         28.000000|  67.000000|     15.000000|  49.000000|  11.000000|     6.135900|     330000.000000|\n",
            "|-119.670000|36.330000|         19.000000|1241.000000|    244.000000| 850.000000| 237.000000|     2.937500|      81700.000000|\n",
            "|-119.560000|36.510000|         37.000000|1018.000000|    213.000000| 663.000000| 204.000000|     1.663500|      67000.000000|\n",
            "|-121.430000|38.630000|         43.000000|1009.000000|    225.000000| 604.000000| 218.000000|     1.664100|      67000.000000|\n",
            "|-120.650000|35.480000|         19.000000|2310.000000|    471.000000|1341.000000| 441.000000|     3.225000|     166900.000000|\n",
            "|-122.840000|38.400000|         15.000000|3080.000000|    617.000000|1446.000000| 599.000000|     3.669600|     194400.000000|\n",
            "|-118.020000|34.080000|         31.000000|2402.000000|    632.000000|2830.000000| 603.000000|     2.333300|     164200.000000|\n",
            "|-118.240000|33.980000|         45.000000| 972.000000|    249.000000|1288.000000| 261.000000|     2.205400|     125000.000000|\n",
            "|-119.120000|35.850000|         37.000000| 736.000000|    166.000000| 564.000000| 138.000000|     2.416700|      58300.000000|\n",
            "|-121.930000|37.250000|         36.000000|1089.000000|    182.000000| 535.000000| 170.000000|     4.690000|     252600.000000|\n",
            "|-117.030000|32.970000|         16.000000|3936.000000|    694.000000|1935.000000| 659.000000|     4.562500|     231200.000000|\n",
            "|-117.970000|33.730000|         27.000000|2097.000000|    325.000000|1217.000000| 331.000000|     5.712100|     222500.000000|\n",
            "|-117.990000|33.810000|         42.000000| 161.000000|     40.000000| 157.000000|  50.000000|     2.200000|     153100.000000|\n",
            "|-120.810000|37.530000|         15.000000| 570.000000|    123.000000| 189.000000| 107.000000|     1.875000|     181300.000000|\n",
            "|-121.200000|38.690000|         26.000000|3077.000000|    607.000000|1603.000000| 595.000000|     2.717400|     137500.000000|\n",
            "|-118.880000|34.210000|         26.000000|1590.000000|    196.000000| 654.000000| 199.000000|     6.585100|     300000.000000|\n",
            "|-122.590000|38.010000|         35.000000|8814.000000|   1307.000000|3450.000000|1258.000000|     6.172400|     414300.000000|\n",
            "+-----------+---------+------------------+-----------+--------------+-----------+-----------+-------------+------------------+\n",
            "only showing top 20 rows\n",
            "\n"
          ]
        }
      ],
      "source": [
        "df.show()"
      ]
    },
    {
      "cell_type": "code",
      "execution_count": 11,
      "metadata": {
        "colab": {
          "base_uri": "https://localhost:8080/"
        },
        "id": "PQeBLE8aroSJ",
        "outputId": "55b81fcb-f3a6-492c-ce93-ec04d1ab4aca"
      },
      "outputs": [
        {
          "output_type": "stream",
          "name": "stdout",
          "text": [
            "root\n",
            " |-- longitude: string (nullable = true)\n",
            " |-- latitude: string (nullable = true)\n",
            " |-- housing_median_age: string (nullable = true)\n",
            " |-- total_rooms: string (nullable = true)\n",
            " |-- total_bedrooms: string (nullable = true)\n",
            " |-- population: string (nullable = true)\n",
            " |-- households: string (nullable = true)\n",
            " |-- median_income: string (nullable = true)\n",
            " |-- median_house_value: string (nullable = true)\n",
            "\n"
          ]
        }
      ],
      "source": [
        "df.printSchema()"
      ]
    },
    {
      "cell_type": "code",
      "execution_count": 12,
      "metadata": {
        "colab": {
          "base_uri": "https://localhost:8080/"
        },
        "id": "ET808Gd5r5qq",
        "outputId": "7aa5ee7f-6209-4f7a-f711-7003a635227a"
      },
      "outputs": [
        {
          "output_type": "execute_result",
          "data": {
            "text/plain": [
              "3000"
            ]
          },
          "metadata": {},
          "execution_count": 12
        }
      ],
      "source": [
        "df.count()"
      ]
    },
    {
      "cell_type": "code",
      "execution_count": 13,
      "metadata": {
        "colab": {
          "base_uri": "https://localhost:8080/"
        },
        "id": "YTh6DxC-r-Ma",
        "outputId": "103f03d5-34e6-4543-a6eb-ccf1a5f1d2ae"
      },
      "outputs": [
        {
          "output_type": "stream",
          "name": "stdout",
          "text": [
            "+-----------+---------+------------------+-----------+--------------+-----------+----------+-------------+------------------+\n",
            "|  longitude| latitude|housing_median_age|total_rooms|total_bedrooms| population|households|median_income|median_house_value|\n",
            "+-----------+---------+------------------+-----------+--------------+-----------+----------+-------------+------------------+\n",
            "|-122.050000|37.370000|         27.000000|3885.000000|    661.000000|1537.000000|606.000000|     6.608500|     344700.000000|\n",
            "|-118.300000|34.260000|         43.000000|1510.000000|    310.000000| 809.000000|277.000000|     3.599000|     176500.000000|\n",
            "|-117.810000|33.780000|         27.000000|3589.000000|    507.000000|1484.000000|495.000000|     5.793400|     270500.000000|\n",
            "|-118.360000|33.820000|         28.000000|  67.000000|     15.000000|  49.000000| 11.000000|     6.135900|     330000.000000|\n",
            "|-119.670000|36.330000|         19.000000|1241.000000|    244.000000| 850.000000|237.000000|     2.937500|      81700.000000|\n",
            "|-119.560000|36.510000|         37.000000|1018.000000|    213.000000| 663.000000|204.000000|     1.663500|      67000.000000|\n",
            "+-----------+---------+------------------+-----------+--------------+-----------+----------+-------------+------------------+\n",
            "only showing top 6 rows\n",
            "\n"
          ]
        }
      ],
      "source": [
        "df.show(6)"
      ]
    },
    {
      "cell_type": "code",
      "execution_count": 15,
      "metadata": {
        "colab": {
          "base_uri": "https://localhost:8080/"
        },
        "id": "gUaiKGCqsDMY",
        "outputId": "088002f3-5a5e-43e8-ce4e-7c525dd1df4b"
      },
      "outputs": [
        {
          "output_type": "stream",
          "name": "stdout",
          "text": [
            "+-----------+---------+----------+\n",
            "|  longitude| latitude|households|\n",
            "+-----------+---------+----------+\n",
            "|-122.050000|37.370000|606.000000|\n",
            "|-118.300000|34.260000|277.000000|\n",
            "|-117.810000|33.780000|495.000000|\n",
            "|-118.360000|33.820000| 11.000000|\n",
            "|-119.670000|36.330000|237.000000|\n",
            "|-119.560000|36.510000|204.000000|\n",
            "+-----------+---------+----------+\n",
            "only showing top 6 rows\n",
            "\n"
          ]
        }
      ],
      "source": [
        "df.select(\"longitude\", \"latitude\", \"households\").show(6)"
      ]
    },
    {
      "cell_type": "code",
      "execution_count": 16,
      "metadata": {
        "id": "SvCbxHn2sVbB",
        "colab": {
          "base_uri": "https://localhost:8080/"
        },
        "outputId": "7e2f929a-7fa3-43c9-ccd1-6bc819bd108b"
      },
      "outputs": [
        {
          "output_type": "stream",
          "name": "stdout",
          "text": [
            "+-----------+---------+----------+\n",
            "|  longitude| latitude|households|\n",
            "+-----------+---------+----------+\n",
            "|-122.050000|37.370000|606.000000|\n",
            "|-118.300000|34.260000|277.000000|\n",
            "|-117.810000|33.780000|495.000000|\n",
            "+-----------+---------+----------+\n",
            "only showing top 3 rows\n",
            "\n"
          ]
        }
      ],
      "source": [
        "df.select(\"longitude\", \"latitude\", \"households\").show(3)"
      ]
    },
    {
      "cell_type": "code",
      "source": [
        "df.limit(10).toPandas()"
      ],
      "metadata": {
        "colab": {
          "base_uri": "https://localhost:8080/",
          "height": 363
        },
        "id": "0E08SStdkkrZ",
        "outputId": "fffeffb4-216c-4de2-c5f5-a26a370ad5ef"
      },
      "execution_count": 17,
      "outputs": [
        {
          "output_type": "execute_result",
          "data": {
            "text/plain": [
              "     longitude   latitude housing_median_age  total_rooms total_bedrooms  \\\n",
              "0  -122.050000  37.370000          27.000000  3885.000000     661.000000   \n",
              "1  -118.300000  34.260000          43.000000  1510.000000     310.000000   \n",
              "2  -117.810000  33.780000          27.000000  3589.000000     507.000000   \n",
              "3  -118.360000  33.820000          28.000000    67.000000      15.000000   \n",
              "4  -119.670000  36.330000          19.000000  1241.000000     244.000000   \n",
              "5  -119.560000  36.510000          37.000000  1018.000000     213.000000   \n",
              "6  -121.430000  38.630000          43.000000  1009.000000     225.000000   \n",
              "7  -120.650000  35.480000          19.000000  2310.000000     471.000000   \n",
              "8  -122.840000  38.400000          15.000000  3080.000000     617.000000   \n",
              "9  -118.020000  34.080000          31.000000  2402.000000     632.000000   \n",
              "\n",
              "    population  households median_income median_house_value  \n",
              "0  1537.000000  606.000000      6.608500      344700.000000  \n",
              "1   809.000000  277.000000      3.599000      176500.000000  \n",
              "2  1484.000000  495.000000      5.793400      270500.000000  \n",
              "3    49.000000   11.000000      6.135900      330000.000000  \n",
              "4   850.000000  237.000000      2.937500       81700.000000  \n",
              "5   663.000000  204.000000      1.663500       67000.000000  \n",
              "6   604.000000  218.000000      1.664100       67000.000000  \n",
              "7  1341.000000  441.000000      3.225000      166900.000000  \n",
              "8  1446.000000  599.000000      3.669600      194400.000000  \n",
              "9  2830.000000  603.000000      2.333300      164200.000000  "
            ],
            "text/html": [
              "\n",
              "  <div id=\"df-9a17b262-168a-4c95-93a1-0924bcdbbf0d\">\n",
              "    <div class=\"colab-df-container\">\n",
              "      <div>\n",
              "<style scoped>\n",
              "    .dataframe tbody tr th:only-of-type {\n",
              "        vertical-align: middle;\n",
              "    }\n",
              "\n",
              "    .dataframe tbody tr th {\n",
              "        vertical-align: top;\n",
              "    }\n",
              "\n",
              "    .dataframe thead th {\n",
              "        text-align: right;\n",
              "    }\n",
              "</style>\n",
              "<table border=\"1\" class=\"dataframe\">\n",
              "  <thead>\n",
              "    <tr style=\"text-align: right;\">\n",
              "      <th></th>\n",
              "      <th>longitude</th>\n",
              "      <th>latitude</th>\n",
              "      <th>housing_median_age</th>\n",
              "      <th>total_rooms</th>\n",
              "      <th>total_bedrooms</th>\n",
              "      <th>population</th>\n",
              "      <th>households</th>\n",
              "      <th>median_income</th>\n",
              "      <th>median_house_value</th>\n",
              "    </tr>\n",
              "  </thead>\n",
              "  <tbody>\n",
              "    <tr>\n",
              "      <th>0</th>\n",
              "      <td>-122.050000</td>\n",
              "      <td>37.370000</td>\n",
              "      <td>27.000000</td>\n",
              "      <td>3885.000000</td>\n",
              "      <td>661.000000</td>\n",
              "      <td>1537.000000</td>\n",
              "      <td>606.000000</td>\n",
              "      <td>6.608500</td>\n",
              "      <td>344700.000000</td>\n",
              "    </tr>\n",
              "    <tr>\n",
              "      <th>1</th>\n",
              "      <td>-118.300000</td>\n",
              "      <td>34.260000</td>\n",
              "      <td>43.000000</td>\n",
              "      <td>1510.000000</td>\n",
              "      <td>310.000000</td>\n",
              "      <td>809.000000</td>\n",
              "      <td>277.000000</td>\n",
              "      <td>3.599000</td>\n",
              "      <td>176500.000000</td>\n",
              "    </tr>\n",
              "    <tr>\n",
              "      <th>2</th>\n",
              "      <td>-117.810000</td>\n",
              "      <td>33.780000</td>\n",
              "      <td>27.000000</td>\n",
              "      <td>3589.000000</td>\n",
              "      <td>507.000000</td>\n",
              "      <td>1484.000000</td>\n",
              "      <td>495.000000</td>\n",
              "      <td>5.793400</td>\n",
              "      <td>270500.000000</td>\n",
              "    </tr>\n",
              "    <tr>\n",
              "      <th>3</th>\n",
              "      <td>-118.360000</td>\n",
              "      <td>33.820000</td>\n",
              "      <td>28.000000</td>\n",
              "      <td>67.000000</td>\n",
              "      <td>15.000000</td>\n",
              "      <td>49.000000</td>\n",
              "      <td>11.000000</td>\n",
              "      <td>6.135900</td>\n",
              "      <td>330000.000000</td>\n",
              "    </tr>\n",
              "    <tr>\n",
              "      <th>4</th>\n",
              "      <td>-119.670000</td>\n",
              "      <td>36.330000</td>\n",
              "      <td>19.000000</td>\n",
              "      <td>1241.000000</td>\n",
              "      <td>244.000000</td>\n",
              "      <td>850.000000</td>\n",
              "      <td>237.000000</td>\n",
              "      <td>2.937500</td>\n",
              "      <td>81700.000000</td>\n",
              "    </tr>\n",
              "    <tr>\n",
              "      <th>5</th>\n",
              "      <td>-119.560000</td>\n",
              "      <td>36.510000</td>\n",
              "      <td>37.000000</td>\n",
              "      <td>1018.000000</td>\n",
              "      <td>213.000000</td>\n",
              "      <td>663.000000</td>\n",
              "      <td>204.000000</td>\n",
              "      <td>1.663500</td>\n",
              "      <td>67000.000000</td>\n",
              "    </tr>\n",
              "    <tr>\n",
              "      <th>6</th>\n",
              "      <td>-121.430000</td>\n",
              "      <td>38.630000</td>\n",
              "      <td>43.000000</td>\n",
              "      <td>1009.000000</td>\n",
              "      <td>225.000000</td>\n",
              "      <td>604.000000</td>\n",
              "      <td>218.000000</td>\n",
              "      <td>1.664100</td>\n",
              "      <td>67000.000000</td>\n",
              "    </tr>\n",
              "    <tr>\n",
              "      <th>7</th>\n",
              "      <td>-120.650000</td>\n",
              "      <td>35.480000</td>\n",
              "      <td>19.000000</td>\n",
              "      <td>2310.000000</td>\n",
              "      <td>471.000000</td>\n",
              "      <td>1341.000000</td>\n",
              "      <td>441.000000</td>\n",
              "      <td>3.225000</td>\n",
              "      <td>166900.000000</td>\n",
              "    </tr>\n",
              "    <tr>\n",
              "      <th>8</th>\n",
              "      <td>-122.840000</td>\n",
              "      <td>38.400000</td>\n",
              "      <td>15.000000</td>\n",
              "      <td>3080.000000</td>\n",
              "      <td>617.000000</td>\n",
              "      <td>1446.000000</td>\n",
              "      <td>599.000000</td>\n",
              "      <td>3.669600</td>\n",
              "      <td>194400.000000</td>\n",
              "    </tr>\n",
              "    <tr>\n",
              "      <th>9</th>\n",
              "      <td>-118.020000</td>\n",
              "      <td>34.080000</td>\n",
              "      <td>31.000000</td>\n",
              "      <td>2402.000000</td>\n",
              "      <td>632.000000</td>\n",
              "      <td>2830.000000</td>\n",
              "      <td>603.000000</td>\n",
              "      <td>2.333300</td>\n",
              "      <td>164200.000000</td>\n",
              "    </tr>\n",
              "  </tbody>\n",
              "</table>\n",
              "</div>\n",
              "      <button class=\"colab-df-convert\" onclick=\"convertToInteractive('df-9a17b262-168a-4c95-93a1-0924bcdbbf0d')\"\n",
              "              title=\"Convert this dataframe to an interactive table.\"\n",
              "              style=\"display:none;\">\n",
              "        \n",
              "  <svg xmlns=\"http://www.w3.org/2000/svg\" height=\"24px\"viewBox=\"0 0 24 24\"\n",
              "       width=\"24px\">\n",
              "    <path d=\"M0 0h24v24H0V0z\" fill=\"none\"/>\n",
              "    <path d=\"M18.56 5.44l.94 2.06.94-2.06 2.06-.94-2.06-.94-.94-2.06-.94 2.06-2.06.94zm-11 1L8.5 8.5l.94-2.06 2.06-.94-2.06-.94L8.5 2.5l-.94 2.06-2.06.94zm10 10l.94 2.06.94-2.06 2.06-.94-2.06-.94-.94-2.06-.94 2.06-2.06.94z\"/><path d=\"M17.41 7.96l-1.37-1.37c-.4-.4-.92-.59-1.43-.59-.52 0-1.04.2-1.43.59L10.3 9.45l-7.72 7.72c-.78.78-.78 2.05 0 2.83L4 21.41c.39.39.9.59 1.41.59.51 0 1.02-.2 1.41-.59l7.78-7.78 2.81-2.81c.8-.78.8-2.07 0-2.86zM5.41 20L4 18.59l7.72-7.72 1.47 1.35L5.41 20z\"/>\n",
              "  </svg>\n",
              "      </button>\n",
              "      \n",
              "  <style>\n",
              "    .colab-df-container {\n",
              "      display:flex;\n",
              "      flex-wrap:wrap;\n",
              "      gap: 12px;\n",
              "    }\n",
              "\n",
              "    .colab-df-convert {\n",
              "      background-color: #E8F0FE;\n",
              "      border: none;\n",
              "      border-radius: 50%;\n",
              "      cursor: pointer;\n",
              "      display: none;\n",
              "      fill: #1967D2;\n",
              "      height: 32px;\n",
              "      padding: 0 0 0 0;\n",
              "      width: 32px;\n",
              "    }\n",
              "\n",
              "    .colab-df-convert:hover {\n",
              "      background-color: #E2EBFA;\n",
              "      box-shadow: 0px 1px 2px rgba(60, 64, 67, 0.3), 0px 1px 3px 1px rgba(60, 64, 67, 0.15);\n",
              "      fill: #174EA6;\n",
              "    }\n",
              "\n",
              "    [theme=dark] .colab-df-convert {\n",
              "      background-color: #3B4455;\n",
              "      fill: #D2E3FC;\n",
              "    }\n",
              "\n",
              "    [theme=dark] .colab-df-convert:hover {\n",
              "      background-color: #434B5C;\n",
              "      box-shadow: 0px 1px 3px 1px rgba(0, 0, 0, 0.15);\n",
              "      filter: drop-shadow(0px 1px 2px rgba(0, 0, 0, 0.3));\n",
              "      fill: #FFFFFF;\n",
              "    }\n",
              "  </style>\n",
              "\n",
              "      <script>\n",
              "        const buttonEl =\n",
              "          document.querySelector('#df-9a17b262-168a-4c95-93a1-0924bcdbbf0d button.colab-df-convert');\n",
              "        buttonEl.style.display =\n",
              "          google.colab.kernel.accessAllowed ? 'block' : 'none';\n",
              "\n",
              "        async function convertToInteractive(key) {\n",
              "          const element = document.querySelector('#df-9a17b262-168a-4c95-93a1-0924bcdbbf0d');\n",
              "          const dataTable =\n",
              "            await google.colab.kernel.invokeFunction('convertToInteractive',\n",
              "                                                     [key], {});\n",
              "          if (!dataTable) return;\n",
              "\n",
              "          const docLinkHtml = 'Like what you see? Visit the ' +\n",
              "            '<a target=\"_blank\" href=https://colab.research.google.com/notebooks/data_table.ipynb>data table notebook</a>'\n",
              "            + ' to learn more about interactive tables.';\n",
              "          element.innerHTML = '';\n",
              "          dataTable['output_type'] = 'display_data';\n",
              "          await google.colab.output.renderOutput(dataTable, element);\n",
              "          const docLink = document.createElement('div');\n",
              "          docLink.innerHTML = docLinkHtml;\n",
              "          element.appendChild(docLink);\n",
              "        }\n",
              "      </script>\n",
              "    </div>\n",
              "  </div>\n",
              "  "
            ]
          },
          "metadata": {},
          "execution_count": 17
        }
      ]
    },
    {
      "cell_type": "code",
      "source": [
        "df=df.withColumnRenamed(\"housing_median_age\",\"housing_age\")"
      ],
      "metadata": {
        "id": "DPC7jMFalUcK"
      },
      "execution_count": 18,
      "outputs": []
    },
    {
      "cell_type": "code",
      "source": [
        "df=df.toDF(*['longitude', \"latitude\", 'housing_median_age', \"total_rooms\", \"total_bedrooms\", \"population\", \"households\", \"median_income\", \"median_house_value\"])"
      ],
      "metadata": {
        "id": "e4FliblHl5wv"
      },
      "execution_count": 21,
      "outputs": []
    },
    {
      "cell_type": "code",
      "source": [
        "df.show()"
      ],
      "metadata": {
        "colab": {
          "base_uri": "https://localhost:8080/"
        },
        "id": "lkiod8HdmyFO",
        "outputId": "84f0d727-9841-4905-dcdc-35034377c3ae"
      },
      "execution_count": 22,
      "outputs": [
        {
          "output_type": "stream",
          "name": "stdout",
          "text": [
            "+-----------+---------+------------------+-----------+--------------+-----------+-----------+-------------+------------------+\n",
            "|  longitude| latitude|housing_median_age|total_rooms|total_bedrooms| population| households|median_income|median_house_value|\n",
            "+-----------+---------+------------------+-----------+--------------+-----------+-----------+-------------+------------------+\n",
            "|-122.050000|37.370000|         27.000000|3885.000000|    661.000000|1537.000000| 606.000000|     6.608500|     344700.000000|\n",
            "|-118.300000|34.260000|         43.000000|1510.000000|    310.000000| 809.000000| 277.000000|     3.599000|     176500.000000|\n",
            "|-117.810000|33.780000|         27.000000|3589.000000|    507.000000|1484.000000| 495.000000|     5.793400|     270500.000000|\n",
            "|-118.360000|33.820000|         28.000000|  67.000000|     15.000000|  49.000000|  11.000000|     6.135900|     330000.000000|\n",
            "|-119.670000|36.330000|         19.000000|1241.000000|    244.000000| 850.000000| 237.000000|     2.937500|      81700.000000|\n",
            "|-119.560000|36.510000|         37.000000|1018.000000|    213.000000| 663.000000| 204.000000|     1.663500|      67000.000000|\n",
            "|-121.430000|38.630000|         43.000000|1009.000000|    225.000000| 604.000000| 218.000000|     1.664100|      67000.000000|\n",
            "|-120.650000|35.480000|         19.000000|2310.000000|    471.000000|1341.000000| 441.000000|     3.225000|     166900.000000|\n",
            "|-122.840000|38.400000|         15.000000|3080.000000|    617.000000|1446.000000| 599.000000|     3.669600|     194400.000000|\n",
            "|-118.020000|34.080000|         31.000000|2402.000000|    632.000000|2830.000000| 603.000000|     2.333300|     164200.000000|\n",
            "|-118.240000|33.980000|         45.000000| 972.000000|    249.000000|1288.000000| 261.000000|     2.205400|     125000.000000|\n",
            "|-119.120000|35.850000|         37.000000| 736.000000|    166.000000| 564.000000| 138.000000|     2.416700|      58300.000000|\n",
            "|-121.930000|37.250000|         36.000000|1089.000000|    182.000000| 535.000000| 170.000000|     4.690000|     252600.000000|\n",
            "|-117.030000|32.970000|         16.000000|3936.000000|    694.000000|1935.000000| 659.000000|     4.562500|     231200.000000|\n",
            "|-117.970000|33.730000|         27.000000|2097.000000|    325.000000|1217.000000| 331.000000|     5.712100|     222500.000000|\n",
            "|-117.990000|33.810000|         42.000000| 161.000000|     40.000000| 157.000000|  50.000000|     2.200000|     153100.000000|\n",
            "|-120.810000|37.530000|         15.000000| 570.000000|    123.000000| 189.000000| 107.000000|     1.875000|     181300.000000|\n",
            "|-121.200000|38.690000|         26.000000|3077.000000|    607.000000|1603.000000| 595.000000|     2.717400|     137500.000000|\n",
            "|-118.880000|34.210000|         26.000000|1590.000000|    196.000000| 654.000000| 199.000000|     6.585100|     300000.000000|\n",
            "|-122.590000|38.010000|         35.000000|8814.000000|   1307.000000|3450.000000|1258.000000|     6.172400|     414300.000000|\n",
            "+-----------+---------+------------------+-----------+--------------+-----------+-----------+-------------+------------------+\n",
            "only showing top 20 rows\n",
            "\n"
          ]
        }
      ]
    },
    {
      "cell_type": "code",
      "source": [
        "df2=df.select('households', \"population\")\n",
        "df2.show()"
      ],
      "metadata": {
        "colab": {
          "base_uri": "https://localhost:8080/"
        },
        "id": "5icGzXeznkgb",
        "outputId": "b486bd03-dc3e-4243-f588-cb5320b5112e"
      },
      "execution_count": 23,
      "outputs": [
        {
          "output_type": "stream",
          "name": "stdout",
          "text": [
            "+-----------+-----------+\n",
            "| households| population|\n",
            "+-----------+-----------+\n",
            "| 606.000000|1537.000000|\n",
            "| 277.000000| 809.000000|\n",
            "| 495.000000|1484.000000|\n",
            "|  11.000000|  49.000000|\n",
            "| 237.000000| 850.000000|\n",
            "| 204.000000| 663.000000|\n",
            "| 218.000000| 604.000000|\n",
            "| 441.000000|1341.000000|\n",
            "| 599.000000|1446.000000|\n",
            "| 603.000000|2830.000000|\n",
            "| 261.000000|1288.000000|\n",
            "| 138.000000| 564.000000|\n",
            "| 170.000000| 535.000000|\n",
            "| 659.000000|1935.000000|\n",
            "| 331.000000|1217.000000|\n",
            "|  50.000000| 157.000000|\n",
            "| 107.000000| 189.000000|\n",
            "| 595.000000|1603.000000|\n",
            "| 199.000000| 654.000000|\n",
            "|1258.000000|3450.000000|\n",
            "+-----------+-----------+\n",
            "only showing top 20 rows\n",
            "\n"
          ]
        }
      ]
    },
    {
      "cell_type": "code",
      "source": [
        "df2.sort(\"households\").show()"
      ],
      "metadata": {
        "colab": {
          "base_uri": "https://localhost:8080/"
        },
        "id": "I0-DJYVYoHYW",
        "outputId": "014874d0-d634-497b-8a7e-afeb8d15e28b"
      },
      "execution_count": 24,
      "outputs": [
        {
          "output_type": "stream",
          "name": "stdout",
          "text": [
            "+-----------+-----------+\n",
            "| households| population|\n",
            "+-----------+-----------+\n",
            "|  10.000000|  27.000000|\n",
            "| 100.000000| 337.000000|\n",
            "| 100.000000| 261.000000|\n",
            "|1000.000000|2053.000000|\n",
            "|1001.000000|3258.000000|\n",
            "|1004.000000|2519.000000|\n",
            "|1005.000000|2843.000000|\n",
            "|1006.000000|3464.000000|\n",
            "|1007.000000|3707.000000|\n",
            "|1007.000000|2334.000000|\n",
            "|1007.000000|2602.000000|\n",
            "|1009.000000|4205.000000|\n",
            "|1010.000000|3129.000000|\n",
            "|1012.000000|3707.000000|\n",
            "|1014.000000|3003.000000|\n",
            "|1015.000000|1715.000000|\n",
            "|1019.000000|2475.000000|\n",
            "| 102.000000| 348.000000|\n",
            "|1020.000000|2778.000000|\n",
            "|1021.000000|2812.000000|\n",
            "+-----------+-----------+\n",
            "only showing top 20 rows\n",
            "\n"
          ]
        }
      ]
    },
    {
      "cell_type": "code",
      "source": [
        "df2.sort(\"households\", \"population\").show()"
      ],
      "metadata": {
        "colab": {
          "base_uri": "https://localhost:8080/"
        },
        "id": "9oWy1ObFoIUo",
        "outputId": "2bdd67b2-25ff-44de-c539-74e4bc63ba8d"
      },
      "execution_count": 25,
      "outputs": [
        {
          "output_type": "stream",
          "name": "stdout",
          "text": [
            "+-----------+-----------+\n",
            "| households| population|\n",
            "+-----------+-----------+\n",
            "|  10.000000|  27.000000|\n",
            "| 100.000000| 261.000000|\n",
            "| 100.000000| 337.000000|\n",
            "|1000.000000|2053.000000|\n",
            "|1001.000000|3258.000000|\n",
            "|1004.000000|2519.000000|\n",
            "|1005.000000|2843.000000|\n",
            "|1006.000000|3464.000000|\n",
            "|1007.000000|2334.000000|\n",
            "|1007.000000|2602.000000|\n",
            "|1007.000000|3707.000000|\n",
            "|1009.000000|4205.000000|\n",
            "|1010.000000|3129.000000|\n",
            "|1012.000000|3707.000000|\n",
            "|1014.000000|3003.000000|\n",
            "|1015.000000|1715.000000|\n",
            "|1019.000000|2475.000000|\n",
            "| 102.000000| 348.000000|\n",
            "|1020.000000|2778.000000|\n",
            "|1021.000000|2049.000000|\n",
            "+-----------+-----------+\n",
            "only showing top 20 rows\n",
            "\n"
          ]
        }
      ]
    },
    {
      "cell_type": "code",
      "source": [
        "from pyspark.sql import functions as F\n",
        "df2.sort(F.desc(\"households\")).show()"
      ],
      "metadata": {
        "colab": {
          "base_uri": "https://localhost:8080/"
        },
        "id": "Tk1CsIAPowjj",
        "outputId": "2e3b4a91-fdfc-4ce0-d351-ca1037d70ef4"
      },
      "execution_count": 28,
      "outputs": [
        {
          "output_type": "stream",
          "name": "stdout",
          "text": [
            "+----------+-----------+\n",
            "|households| population|\n",
            "+----------+-----------+\n",
            "|998.000000|2162.000000|\n",
            "|997.000000|2415.000000|\n",
            "|994.000000|2843.000000|\n",
            "|993.000000|3011.000000|\n",
            "|991.000000|1639.000000|\n",
            "|987.000000|2719.000000|\n",
            "|986.000000|1512.000000|\n",
            "|985.000000|2766.000000|\n",
            "|985.000000|2760.000000|\n",
            "|984.000000|3444.000000|\n",
            "|982.000000|2010.000000|\n",
            "|980.000000|2948.000000|\n",
            "| 98.000000| 208.000000|\n",
            "|979.000000|2259.000000|\n",
            "|979.000000|2823.000000|\n",
            "|979.000000|2220.000000|\n",
            "|978.000000|4660.000000|\n",
            "|978.000000|3538.000000|\n",
            "|977.000000|2697.000000|\n",
            "|975.000000|2198.000000|\n",
            "+----------+-----------+\n",
            "only showing top 20 rows\n",
            "\n"
          ]
        }
      ]
    },
    {
      "cell_type": "code",
      "source": [
        "from pyspark.sql.types import DoubleType, IntegerType, StringType\n",
        "df3= df2.withColumn('households', F.col('households').cast(DoubleType()))"
      ],
      "metadata": {
        "id": "-MmDh19Sr57v"
      },
      "execution_count": 38,
      "outputs": []
    },
    {
      "cell_type": "code",
      "source": [
        "df3.show()"
      ],
      "metadata": {
        "colab": {
          "base_uri": "https://localhost:8080/"
        },
        "id": "CMHDBrZur6Pg",
        "outputId": "16ed93f9-fc4d-470a-c515-6f39f480a2ca"
      },
      "execution_count": 39,
      "outputs": [
        {
          "output_type": "stream",
          "name": "stdout",
          "text": [
            "+----------+-----------+\n",
            "|households| population|\n",
            "+----------+-----------+\n",
            "|     606.0|1537.000000|\n",
            "|     277.0| 809.000000|\n",
            "|     495.0|1484.000000|\n",
            "|      11.0|  49.000000|\n",
            "|     237.0| 850.000000|\n",
            "|     204.0| 663.000000|\n",
            "|     218.0| 604.000000|\n",
            "|     441.0|1341.000000|\n",
            "|     599.0|1446.000000|\n",
            "|     603.0|2830.000000|\n",
            "|     261.0|1288.000000|\n",
            "|     138.0| 564.000000|\n",
            "|     170.0| 535.000000|\n",
            "|     659.0|1935.000000|\n",
            "|     331.0|1217.000000|\n",
            "|      50.0| 157.000000|\n",
            "|     107.0| 189.000000|\n",
            "|     595.0|1603.000000|\n",
            "|     199.0| 654.000000|\n",
            "|    1258.0|3450.000000|\n",
            "+----------+-----------+\n",
            "only showing top 20 rows\n",
            "\n"
          ]
        }
      ]
    },
    {
      "cell_type": "code",
      "source": [
        "df3.printSchema()"
      ],
      "metadata": {
        "colab": {
          "base_uri": "https://localhost:8080/"
        },
        "id": "z7VZPuQHoxT2",
        "outputId": "5342e66d-ee33-41cd-f624-88373d485349"
      },
      "execution_count": 40,
      "outputs": [
        {
          "output_type": "stream",
          "name": "stdout",
          "text": [
            "root\n",
            " |-- households: double (nullable = true)\n",
            " |-- population: string (nullable = true)\n",
            "\n"
          ]
        }
      ]
    },
    {
      "cell_type": "code",
      "source": [
        "df3.filter((df3.households>10) & (df3.households=='50')).show()"
      ],
      "metadata": {
        "colab": {
          "base_uri": "https://localhost:8080/"
        },
        "id": "GC7O4wLYyQKs",
        "outputId": "fc2950b0-27c4-4835-ac61-772007378264"
      },
      "execution_count": 41,
      "outputs": [
        {
          "output_type": "stream",
          "name": "stdout",
          "text": [
            "+----------+----------+\n",
            "|households|population|\n",
            "+----------+----------+\n",
            "|      50.0|157.000000|\n",
            "|      50.0| 93.000000|\n",
            "|      50.0|170.000000|\n",
            "|      50.0|119.000000|\n",
            "|      50.0|198.000000|\n",
            "+----------+----------+\n",
            "\n"
          ]
        }
      ]
    },
    {
      "cell_type": "code",
      "source": [
        "df3.filter(df3.households==10).show()"
      ],
      "metadata": {
        "colab": {
          "base_uri": "https://localhost:8080/"
        },
        "id": "THlvIpdo1wOE",
        "outputId": "3fc72cda-5389-4f83-e875-e46f2f4d8c26"
      },
      "execution_count": 43,
      "outputs": [
        {
          "output_type": "stream",
          "name": "stdout",
          "text": [
            "+----------+----------+\n",
            "|households|population|\n",
            "+----------+----------+\n",
            "|      10.0| 27.000000|\n",
            "+----------+----------+\n",
            "\n"
          ]
        }
      ]
    },
    {
      "cell_type": "code",
      "source": [],
      "metadata": {
        "id": "CDEdN6ff5DjI"
      },
      "execution_count": null,
      "outputs": []
    }
  ],
  "metadata": {
    "colab": {
      "provenance": [],
      "authorship_tag": "ABX9TyN11GKXkHD4PTaZzF1htOd9",
      "include_colab_link": true
    },
    "kernelspec": {
      "display_name": "Python 3",
      "name": "python3"
    },
    "language_info": {
      "name": "python"
    }
  },
  "nbformat": 4,
  "nbformat_minor": 0
}