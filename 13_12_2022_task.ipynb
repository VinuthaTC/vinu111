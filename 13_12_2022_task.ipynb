{
  "nbformat": 4,
  "nbformat_minor": 0,
  "metadata": {
    "colab": {
      "provenance": [],
      "authorship_tag": "ABX9TyO6yZxXzNMp5FEVoY17E/pj",
      "include_colab_link": true
    },
    "kernelspec": {
      "name": "python3",
      "display_name": "Python 3"
    },
    "language_info": {
      "name": "python"
    }
  },
  "cells": [
    {
      "cell_type": "markdown",
      "metadata": {
        "id": "view-in-github",
        "colab_type": "text"
      },
      "source": [
        "<a href=\"https://colab.research.google.com/github/VinuthaTC/vinu111/blob/main/13_12_2022_task.ipynb\" target=\"_parent\"><img src=\"https://colab.research.google.com/assets/colab-badge.svg\" alt=\"Open In Colab\"/></a>"
      ]
    },
    {
      "cell_type": "code",
      "execution_count": 1,
      "metadata": {
        "colab": {
          "base_uri": "https://localhost:8080/"
        },
        "id": "l-WtbRcyTWFk",
        "outputId": "9e5c854c-37fc-4cc7-cdbd-a42781b5c7aa"
      },
      "outputs": [
        {
          "output_type": "stream",
          "name": "stdout",
          "text": [
            "Looking in indexes: https://pypi.org/simple, https://us-python.pkg.dev/colab-wheels/public/simple/\n",
            "Collecting pyspark\n",
            "  Downloading pyspark-3.3.1.tar.gz (281.4 MB)\n",
            "\u001b[K     |████████████████████████████████| 281.4 MB 33 kB/s \n",
            "\u001b[?25hCollecting py4j==0.10.9.5\n",
            "  Downloading py4j-0.10.9.5-py2.py3-none-any.whl (199 kB)\n",
            "\u001b[K     |████████████████████████████████| 199 kB 44.7 MB/s \n",
            "\u001b[?25hBuilding wheels for collected packages: pyspark\n",
            "  Building wheel for pyspark (setup.py) ... \u001b[?25l\u001b[?25hdone\n",
            "  Created wheel for pyspark: filename=pyspark-3.3.1-py2.py3-none-any.whl size=281845512 sha256=f76c4bfa6d57210f42364d9deef3b67c6a0d92cde91049e04a472a00d23b44bb\n",
            "  Stored in directory: /root/.cache/pip/wheels/43/dc/11/ec201cd671da62fa9c5cc77078235e40722170ceba231d7598\n",
            "Successfully built pyspark\n",
            "Installing collected packages: py4j, pyspark\n",
            "Successfully installed py4j-0.10.9.5 pyspark-3.3.1\n"
          ]
        }
      ],
      "source": [
        "pip install pyspark"
      ]
    },
    {
      "cell_type": "code",
      "source": [
        "from pyspark import SparkContext\n"
      ],
      "metadata": {
        "id": "S2RwIV4oTb9J"
      },
      "execution_count": 2,
      "outputs": []
    },
    {
      "cell_type": "code",
      "source": [
        "sc= SparkContext.getOrCreate()"
      ],
      "metadata": {
        "id": "faGot0ljT3Uh"
      },
      "execution_count": 3,
      "outputs": []
    },
    {
      "cell_type": "code",
      "source": [
        "data=sc.parallelize([1,2,3,4,5,6])\n",
        "print(data.collect())"
      ],
      "metadata": {
        "id": "cUrqaHnkUCqL",
        "colab": {
          "base_uri": "https://localhost:8080/"
        },
        "outputId": "8d69b3d3-d63d-4650-9067-099d429fa923"
      },
      "execution_count": 4,
      "outputs": [
        {
          "output_type": "stream",
          "name": "stdout",
          "text": [
            "[1, 2, 3, 4, 5, 6]\n"
          ]
        }
      ]
    },
    {
      "cell_type": "code",
      "source": [
        "print(data.count())"
      ],
      "metadata": {
        "colab": {
          "base_uri": "https://localhost:8080/"
        },
        "id": "jnZOdQU2Eg91",
        "outputId": "6b82d711-9a07-49f5-dc88-8a4f275f18d5"
      },
      "execution_count": 5,
      "outputs": [
        {
          "output_type": "stream",
          "name": "stdout",
          "text": [
            "6\n"
          ]
        }
      ]
    },
    {
      "cell_type": "code",
      "source": [
        "print(data.first())"
      ],
      "metadata": {
        "colab": {
          "base_uri": "https://localhost:8080/"
        },
        "id": "hoEx-p8VFPA5",
        "outputId": "a25c23b8-a6bb-478f-d6fd-6ad65b3c1f16"
      },
      "execution_count": 6,
      "outputs": [
        {
          "output_type": "stream",
          "name": "stdout",
          "text": [
            "1\n"
          ]
        }
      ]
    },
    {
      "cell_type": "code",
      "source": [
        "print(data.take(3))"
      ],
      "metadata": {
        "colab": {
          "base_uri": "https://localhost:8080/"
        },
        "id": "5xmAB0gEEgjV",
        "outputId": "2e2e1dc4-cf8a-477e-b588-173f0d2bec4b"
      },
      "execution_count": 7,
      "outputs": [
        {
          "output_type": "stream",
          "name": "stdout",
          "text": [
            "[1, 2, 3]\n"
          ]
        }
      ]
    },
    {
      "cell_type": "markdown",
      "source": [
        "Reduce"
      ],
      "metadata": {
        "id": "cBjZo7xvIq43"
      }
    },
    {
      "cell_type": "code",
      "source": [
        "print(data.reduce(lambda x,y:x+y))"
      ],
      "metadata": {
        "colab": {
          "base_uri": "https://localhost:8080/"
        },
        "id": "mNOLpehkFrZT",
        "outputId": "be3d86b3-e052-49d6-d0c9-5fd27211fa3e"
      },
      "execution_count": 8,
      "outputs": [
        {
          "output_type": "stream",
          "name": "stdout",
          "text": [
            "21\n"
          ]
        }
      ]
    },
    {
      "cell_type": "code",
      "source": [
        "print(data.reduce(lambda x,y: x*y))"
      ],
      "metadata": {
        "colab": {
          "base_uri": "https://localhost:8080/"
        },
        "id": "gbJm3AMHFrOO",
        "outputId": "4d877b26-abb1-4e94-9298-5fbdca27a70c"
      },
      "execution_count": 9,
      "outputs": [
        {
          "output_type": "stream",
          "name": "stdout",
          "text": [
            "720\n"
          ]
        }
      ]
    },
    {
      "cell_type": "code",
      "source": [
        "data.saveAsTextFile('test.txt')"
      ],
      "metadata": {
        "id": "TlGE4jYjGGOg"
      },
      "execution_count": 10,
      "outputs": []
    },
    {
      "cell_type": "markdown",
      "source": [
        "mapping"
      ],
      "metadata": {
        "id": "qYqndFIoIBKX"
      }
    },
    {
      "cell_type": "code",
      "source": [
        "print(data.map(lambda x: x+10).collect())"
      ],
      "metadata": {
        "colab": {
          "base_uri": "https://localhost:8080/"
        },
        "id": "KXWTUWT5Hwj5",
        "outputId": "23837c9e-f44d-47d5-ddbe-6e5c343163c0"
      },
      "execution_count": 11,
      "outputs": [
        {
          "output_type": "stream",
          "name": "stdout",
          "text": [
            "[11, 12, 13, 14, 15, 16]\n"
          ]
        }
      ]
    },
    {
      "cell_type": "code",
      "source": [
        "print(data.map(lambda x:x*x).collect())"
      ],
      "metadata": {
        "colab": {
          "base_uri": "https://localhost:8080/"
        },
        "id": "SycJMZv9Hu-h",
        "outputId": "84630197-a747-4be6-dc09-d1c09e29efbe"
      },
      "execution_count": 12,
      "outputs": [
        {
          "output_type": "stream",
          "name": "stdout",
          "text": [
            "[1, 4, 9, 16, 25, 36]\n"
          ]
        }
      ]
    },
    {
      "cell_type": "markdown",
      "source": [
        "Filter"
      ],
      "metadata": {
        "id": "vgCHiBz9Jidl"
      }
    },
    {
      "cell_type": "code",
      "source": [
        "print(data.filter(lambda x:x%2==0).collect())"
      ],
      "metadata": {
        "colab": {
          "base_uri": "https://localhost:8080/"
        },
        "id": "4fTyGHuyItrk",
        "outputId": "64b5b1fa-0ce5-4ba6-f699-08c51ad6dd29"
      },
      "execution_count": 13,
      "outputs": [
        {
          "output_type": "stream",
          "name": "stdout",
          "text": [
            "[2, 4, 6]\n"
          ]
        }
      ]
    },
    {
      "cell_type": "code",
      "source": [
        "print(data.filter(lambda x:x%2!=0).collect())"
      ],
      "metadata": {
        "colab": {
          "base_uri": "https://localhost:8080/"
        },
        "id": "YwBqmTKtJNRS",
        "outputId": "095df27a-df54-4476-a943-d8230dcd526a"
      },
      "execution_count": 14,
      "outputs": [
        {
          "output_type": "stream",
          "name": "stdout",
          "text": [
            "[1, 3, 5]\n"
          ]
        }
      ]
    },
    {
      "cell_type": "code",
      "source": [
        "data1 = sc.parallelize([\"Rahul\", \"Swathi\", \"Rohan\", \"Shreya\", \"Thejas\"])\n",
        "print(data1.filter(lambda x : x.startswith('S')).collect())"
      ],
      "metadata": {
        "colab": {
          "base_uri": "https://localhost:8080/"
        },
        "id": "haPUwIc2Jgwg",
        "outputId": "e89c4296-4126-4843-ca2e-5fdc8aa29c73"
      },
      "execution_count": 16,
      "outputs": [
        {
          "output_type": "stream",
          "name": "stdout",
          "text": [
            "['Swathi', 'Shreya']\n"
          ]
        }
      ]
    },
    {
      "cell_type": "markdown",
      "source": [
        "union"
      ],
      "metadata": {
        "id": "RFYpyDKSLYuT"
      }
    },
    {
      "cell_type": "code",
      "source": [
        "df=sc.parallelize([1,3,4,5,6,7,8,9,10])\n",
        "rdd_1=df.filter(lambda x : x%2==0)\n",
        "rdd_2=df.filter(lambda x: x%3==0)\n",
        "print(rdd_1.union(rdd_2).collect())"
      ],
      "metadata": {
        "colab": {
          "base_uri": "https://localhost:8080/"
        },
        "id": "O4XojxV9KiU1",
        "outputId": "996947c4-8086-4f1a-fdfe-6d7e9bb7a39b"
      },
      "execution_count": 17,
      "outputs": [
        {
          "output_type": "stream",
          "name": "stdout",
          "text": [
            "[4, 6, 8, 10, 3, 6, 9]\n"
          ]
        }
      ]
    },
    {
      "cell_type": "markdown",
      "source": [
        "Flatmap"
      ],
      "metadata": {
        "id": "-h2Bgyy7Mpo1"
      }
    },
    {
      "cell_type": "code",
      "source": [
        "new= sc.parallelize([\"Hey arya, This is the pyspark RDD Transformation\"])\n",
        "(new.flatMap(lambda x : x.split(\" \")).collect())"
      ],
      "metadata": {
        "colab": {
          "base_uri": "https://localhost:8080/"
        },
        "id": "SNLP8xGzMoxL",
        "outputId": "499dcc11-8012-47a8-d6ef-25ffab59da0b"
      },
      "execution_count": 21,
      "outputs": [
        {
          "output_type": "execute_result",
          "data": {
            "text/plain": [
              "['Hey', 'arya,', 'This', 'is', 'the', 'pyspark', 'RDD', 'Transformation']"
            ]
          },
          "metadata": {},
          "execution_count": 21
        }
      ]
    },
    {
      "cell_type": "markdown",
      "source": [
        "reducebykey"
      ],
      "metadata": {
        "id": "ZKK83oU2PpV4"
      }
    },
    {
      "cell_type": "code",
      "source": [
        "dd = sc.parallelize([('Rahul', 25), ('Swati', 26), ('Shreya', 22), ('Abhay', 29), ('Rohan', 22), ('Rahul', 23), ('Swati', 19), ('Shreya', 28), ('Abhay', 26), ('Rohan', 22)])\n",
        "print(dd.reduceByKey(lambda x, y: x + y).collect())"
      ],
      "metadata": {
        "colab": {
          "base_uri": "https://localhost:8080/"
        },
        "id": "GGRsy2Q2KiDT",
        "outputId": "8d189be2-e620-4243-e55e-5289ab340b8c"
      },
      "execution_count": 22,
      "outputs": [
        {
          "output_type": "stream",
          "name": "stdout",
          "text": [
            "[('Rahul', 48), ('Shreya', 50), ('Rohan', 44), ('Swati', 45), ('Abhay', 55)]\n"
          ]
        }
      ]
    },
    {
      "cell_type": "markdown",
      "source": [
        "sortbykey"
      ],
      "metadata": {
        "id": "W7UzGSDaQB3D"
      }
    },
    {
      "cell_type": "code",
      "source": [
        "rdd = sc.parallelize([('Rahul', 25), ('Swati', 26), ('Shreya', 22), ('Abhay', 29), ('Rohan', 22), ('Rahul', 23), ('Swati', 19), ('Shreya', 28), ('Abhay', 26), ('Rohan', 22)])\n",
        "print(rdd.sortByKey('ascending').collect())"
      ],
      "metadata": {
        "colab": {
          "base_uri": "https://localhost:8080/"
        },
        "id": "-ltIXYv8P4gm",
        "outputId": "e500c5f0-36df-4e6e-ce90-5d99555ca49a"
      },
      "execution_count": 23,
      "outputs": [
        {
          "output_type": "stream",
          "name": "stdout",
          "text": [
            "[('Abhay', 29), ('Abhay', 26), ('Rahul', 25), ('Rahul', 23), ('Rohan', 22), ('Rohan', 22), ('Shreya', 22), ('Shreya', 28), ('Swati', 26), ('Swati', 19)]\n"
          ]
        }
      ]
    },
    {
      "cell_type": "markdown",
      "source": [
        "groupbykey"
      ],
      "metadata": {
        "id": "XpStiE3lQP8Y"
      }
    },
    {
      "cell_type": "code",
      "source": [
        "rdd1 = sc.parallelize([('Rahul', 25), ('Swati', 26), ('Shreya', 22), ('Abhay', 29), ('Rohan', 22), ('Rahul', 23), ('Swati', 19), ('Shreya', 28), ('Abhay', 26), ('Rohan', 22)])\n",
        "dict_rdd = rdd1.groupByKey().collect()\n",
        "for key, value in dict_rdd:\n",
        "    print(key, list(value))"
      ],
      "metadata": {
        "colab": {
          "base_uri": "https://localhost:8080/"
        },
        "id": "CtLl9CxpJgkF",
        "outputId": "b704ed1d-09f4-4ee8-9da1-d2f5c4d99d39"
      },
      "execution_count": 24,
      "outputs": [
        {
          "output_type": "stream",
          "name": "stdout",
          "text": [
            "Rahul [25, 23]\n",
            "Shreya [22, 28]\n",
            "Rohan [22, 22]\n",
            "Swati [26, 19]\n",
            "Abhay [29, 26]\n"
          ]
        }
      ]
    },
    {
      "cell_type": "markdown",
      "source": [
        "countbykey"
      ],
      "metadata": {
        "id": "NeEkaLVvQ3i2"
      }
    },
    {
      "cell_type": "code",
      "source": [
        "data_df = sc.parallelize([('Rahul', 25), ('Swati', 26), ('Rohan', 22), ('Rahul', 23), ('Swati', 19), ('Shreya', 28), ('Abhay', 26), ('Rohan', 22)])\n",
        "dict_rdd = data_df.countByKey().items()\n",
        "for key, value in dict_rdd:\n",
        "    print(key, value)"
      ],
      "metadata": {
        "colab": {
          "base_uri": "https://localhost:8080/"
        },
        "id": "pRzXirDtQyqd",
        "outputId": "4e8b5c0e-09d5-4c65-d15d-813bff81a2e2"
      },
      "execution_count": 25,
      "outputs": [
        {
          "output_type": "stream",
          "name": "stdout",
          "text": [
            "Rahul 2\n",
            "Swati 2\n",
            "Rohan 2\n",
            "Shreya 1\n",
            "Abhay 1\n"
          ]
        }
      ]
    },
    {
      "cell_type": "code",
      "source": [],
      "metadata": {
        "id": "A3t9IpwORyKj"
      },
      "execution_count": null,
      "outputs": []
    }
  ]
}